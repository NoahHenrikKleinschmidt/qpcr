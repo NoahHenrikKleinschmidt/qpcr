{
 "cells": [
  {
   "cell_type": "markdown",
   "metadata": {},
   "source": [
    "# Manual data analysis \n",
    "\n",
    "This notebook gives an example of manually analysing data using the main `qpcr` module.\n",
    "It makes use of the provided example data in the `Example Data` directory. \n",
    "\n",
    "\n",
    "#### Experimental background\n",
    "\n",
    "The corresponding experimental setup was as follows: \n",
    "Levels of Nonsense-mediated mRNA decay (NMD) sensitive (nmd) and insensitive (prot) transcript isoforms of HNRNPL and SRSF11 were measured by qPCR. As normalisers both 28S rRNA and Actin transcript levels were measured. Measurements were done in hexaplicates (6 replicates). This was done in two separate HeLa cell lines (one with a specific gene knockout (KO), and one without (WT)), which were both treated to a plasmid-mediated rescue (+) or not (-), leading to four experimental conditions:\n",
    "\n",
    "| cell line \\\\ condition | rescue | no rescue |\n",
    "| ---------------------- | ------ | --------- |\n",
    "| knockout               | KO+    | KO-       |\n",
    "| wildtype               | WT+    | WT-       |\n",
    "\n",
    "\n",
    "\n",
    "#### First Analysis\n",
    "In this example we will perform a basic Delta-Delta Ct analysis, while manually assembling the analysis pipeline using the classes of the `qpcr` module. We will visualise the results directly using the provided `Plotters` from the `qpcr.Plotters` submodule."
   ]
  },
  {
   "cell_type": "code",
   "execution_count": 1,
   "metadata": {},
   "outputs": [],
   "source": [
    "# import the qpcr module\n",
    "import qpcr\n",
    "import qpcr.Plotters as qplots"
   ]
  },
  {
   "cell_type": "markdown",
   "metadata": {},
   "source": [
    "## Step 1 - Setting up the Pipeline\n",
    "---"
   ]
  },
  {
   "cell_type": "markdown",
   "metadata": {},
   "source": [
    "### 1.1 Setting up the Reader\n",
    "We will read the datafiles using the `qpcr.SampleReader` class. This is the suggested way as it combines setting up a `qpcr.Reader` and generates `qpcr.Assay` objects directly. To that end we set up an instance of `qpcr.SampleReader` and provide our experimental setup."
   ]
  },
  {
   "cell_type": "code",
   "execution_count": 2,
   "metadata": {},
   "outputs": [],
   "source": [
    "# setup the reader\n",
    "reader = qpcr.SampleReader()\n",
    "\n",
    "# now we define the setup parameters\n",
    "# define the number of replicates for each group (group = condition)\n",
    "reps = 6\n",
    "reader.replicates(reps)\n",
    "\n",
    "# define the names of the groups of replicates = names of conditions\n",
    "# NOTE: The order has to match the order wihtin the raw datafile!\n",
    "group_names = [\"WT-\", \"WT+\", \"KO-\", \"KO+\"] \n",
    "reader.names(group_names)\n"
   ]
  },
  {
   "cell_type": "markdown",
   "metadata": {},
   "source": [
    "### 1.2 Setting up the Analyser\n",
    "Next we set up the the `qpcr.Analyser` that will perform `DeltaCt` computation."
   ]
  },
  {
   "cell_type": "code",
   "execution_count": 3,
   "metadata": {},
   "outputs": [],
   "source": [
    "# setup analyser\n",
    "analyser = qpcr.Analyser()"
   ]
  },
  {
   "cell_type": "markdown",
   "metadata": {},
   "source": [
    "### 1.3 Setting up the Normaliser\n",
    "Now we set up the `qpcr.Normaliser` that will subsequently normalise HNRPL and SRSF11 against a combined 28S+actin normaliser."
   ]
  },
  {
   "cell_type": "code",
   "execution_count": 4,
   "metadata": {},
   "outputs": [],
   "source": [
    "# setup normaliser\n",
    "normaliser = qpcr.Normaliser()"
   ]
  },
  {
   "cell_type": "markdown",
   "metadata": {},
   "source": [
    "## Step 2 - Getting the data\n",
    "---\n",
    "Next we get the datafiles (or rather their filepaths). Here, we do this manually. Of course, any more automated process that yields a list of filepaths is also suitable."
   ]
  },
  {
   "cell_type": "code",
   "execution_count": 5,
   "metadata": {},
   "outputs": [],
   "source": [
    "# we set up the paths to 28S+actin as our normalisers\n",
    "normaliser_files = [\n",
    "    \"../Example Data/28S.csv\",\n",
    "    \"../Example Data/actin.csv\"\n",
    "]\n",
    "\n",
    "# we also set up the paths to the HNRNPL and SRSF11 transcripts\n",
    "assay_files = [\n",
    "    \"../Example Data/HNRNPL_nmd.csv\",\n",
    "    \"../Example Data/HNRNPL_prot.csv\",\n",
    "    \"../Example Data/SRSF11_nmd.csv\",\n",
    "    \"../Example Data/SRSF11_prot.csv\",\n",
    "]\n"
   ]
  },
  {
   "cell_type": "markdown",
   "metadata": {},
   "source": [
    "At this point we also set up empty lists to store the `qpcr.Results` objects that will be generated after passing the datafiles through `qpcr.SampleReader` and `qpcr.Analyser`."
   ]
  },
  {
   "cell_type": "code",
   "execution_count": 6,
   "metadata": {},
   "outputs": [],
   "source": [
    "# a list for 28S and actin\n",
    "normalisers = []\n",
    "# a list for the HNRNPL and SRSF11 transcript isoforms\n",
    "assays = []"
   ]
  },
  {
   "cell_type": "markdown",
   "metadata": {},
   "source": [
    "## Step 3 - Running everything\n",
    "---\n",
    "### 3.1 Reading and first `DeltaCt`\n",
    "Now we finally bring our data and the analysis tools together. To do that we `read` each datafile with the `qpcr.SampleReader` we defined earlier, and then `pipe` it through our defined `qpcr.Analyser`. "
   ]
  },
  {
   "cell_type": "code",
   "execution_count": 7,
   "metadata": {},
   "outputs": [],
   "source": [
    "# we first iterate over the normalisers 28S and actin\n",
    "for norm in normaliser_files:\n",
    "    # read with the reader\n",
    "    norm = reader.read(norm)\n",
    "    # pipe through analyser\n",
    "    norm = analyser.pipe(norm)\n",
    "    # now the normaliser is ready and we can append it to the list\n",
    "    normalisers.append(norm)\n",
    "\n",
    "# and we do the same for our assays-of-interest of HNRPL and SRSF11\n",
    "for assay in assay_files:\n",
    "    assay = reader.read(assay)\n",
    "    assay = analyser.pipe(assay)\n",
    "    assays.append(assay)"
   ]
  },
  {
   "cell_type": "markdown",
   "metadata": {},
   "source": [
    "### 3.2 Normalisation (i.e. second `DeltaDeltaCt`)\n",
    "At this point we have two lists of processed `qpcr.Results` objects that have undergone `DeltaCt` analysis. Now we want to normalise the sample assays against our normalisers to get the second `DeltaDeltaCt`. \n",
    "To that end we use the `qpcr.Normaliser` we defined earlier."
   ]
  },
  {
   "cell_type": "code",
   "execution_count": 8,
   "metadata": {},
   "outputs": [
    {
     "name": "stderr",
     "output_type": "stream",
     "text": [
      "/Users/NoahHK/opt/anaconda3/lib/python3.8/site-packages/qpcr/__init__.py:1688: FutureWarning: Dropping of nuisance columns in DataFrame reductions (with 'numeric_only=None') is deprecated; in a future version this will raise TypeError.  Select only valid columns before calling the reduction.\n",
      "  tmp_df = tmp_df.mean(axis = 1)\n"
     ]
    }
   ],
   "source": [
    "# add the assays to the normaliser \n",
    "normaliser.link(assays = assays, normalisers = normalisers)\n",
    "\n",
    "# and run the normalisation\n",
    "normaliser.normalise()"
   ]
  },
  {
   "cell_type": "markdown",
   "metadata": {},
   "source": [
    "## Step 4 - Inspecting the Results\n",
    "---\n",
    "\n",
    "### 4.1 Get the results\n",
    "At this point we are basically done. We can get the results of our Delta-Delta-Ct analysis using the `get()` method of the `qpcr.Normaliser`, which will return the final `qpcr.Results` object. By the way, to get a `pandas DataFrame` from this we can simply apply the `get()` method once more. "
   ]
  },
  {
   "cell_type": "code",
   "execution_count": 9,
   "metadata": {},
   "outputs": [
    {
     "data": {
      "text/html": [
       "<div>\n",
       "<style scoped>\n",
       "    .dataframe tbody tr th:only-of-type {\n",
       "        vertical-align: middle;\n",
       "    }\n",
       "\n",
       "    .dataframe tbody tr th {\n",
       "        vertical-align: top;\n",
       "    }\n",
       "\n",
       "    .dataframe thead th {\n",
       "        text-align: right;\n",
       "    }\n",
       "</style>\n",
       "<table border=\"1\" class=\"dataframe\">\n",
       "  <thead>\n",
       "    <tr style=\"text-align: right;\">\n",
       "      <th></th>\n",
       "      <th>Sample</th>\n",
       "      <th>group</th>\n",
       "      <th>group_name</th>\n",
       "      <th>HNRNPL_nmd_rel_28S+actin</th>\n",
       "      <th>HNRNPL_prot_rel_28S+actin</th>\n",
       "      <th>SRSF11_nmd_rel_28S+actin</th>\n",
       "      <th>SRSF11_prot_rel_28S+actin</th>\n",
       "    </tr>\n",
       "  </thead>\n",
       "  <tbody>\n",
       "    <tr>\n",
       "      <th>0</th>\n",
       "      <td>NK1</td>\n",
       "      <td>0</td>\n",
       "      <td>WT-</td>\n",
       "      <td>1.000000</td>\n",
       "      <td>1.000000</td>\n",
       "      <td>1.000000</td>\n",
       "      <td>1.000000</td>\n",
       "    </tr>\n",
       "    <tr>\n",
       "      <th>1</th>\n",
       "      <td>NK1</td>\n",
       "      <td>0</td>\n",
       "      <td>WT-</td>\n",
       "      <td>1.079228</td>\n",
       "      <td>1.035265</td>\n",
       "      <td>0.779165</td>\n",
       "      <td>1.049717</td>\n",
       "    </tr>\n",
       "    <tr>\n",
       "      <th>2</th>\n",
       "      <td>NK2</td>\n",
       "      <td>0</td>\n",
       "      <td>WT-</td>\n",
       "      <td>1.088049</td>\n",
       "      <td>1.001209</td>\n",
       "      <td>0.774718</td>\n",
       "      <td>0.994293</td>\n",
       "    </tr>\n",
       "    <tr>\n",
       "      <th>3</th>\n",
       "      <td>NK2</td>\n",
       "      <td>0</td>\n",
       "      <td>WT-</td>\n",
       "      <td>1.057239</td>\n",
       "      <td>1.109801</td>\n",
       "      <td>0.870733</td>\n",
       "      <td>1.057239</td>\n",
       "    </tr>\n",
       "    <tr>\n",
       "      <th>4</th>\n",
       "      <td>NK3</td>\n",
       "      <td>0</td>\n",
       "      <td>WT-</td>\n",
       "      <td>1.043294</td>\n",
       "      <td>0.993882</td>\n",
       "      <td>1.043294</td>\n",
       "      <td>0.980199</td>\n",
       "    </tr>\n",
       "    <tr>\n",
       "      <th>5</th>\n",
       "      <td>NK3</td>\n",
       "      <td>0</td>\n",
       "      <td>WT-</td>\n",
       "      <td>1.032528</td>\n",
       "      <td>1.011279</td>\n",
       "      <td>0.844507</td>\n",
       "      <td>0.976831</td>\n",
       "    </tr>\n",
       "    <tr>\n",
       "      <th>6</th>\n",
       "      <td>NK4</td>\n",
       "      <td>1</td>\n",
       "      <td>WT+</td>\n",
       "      <td>6.310374</td>\n",
       "      <td>0.833772</td>\n",
       "      <td>3.726253</td>\n",
       "      <td>1.229205</td>\n",
       "    </tr>\n",
       "    <tr>\n",
       "      <th>7</th>\n",
       "      <td>NK4</td>\n",
       "      <td>1</td>\n",
       "      <td>WT+</td>\n",
       "      <td>6.887364</td>\n",
       "      <td>0.879010</td>\n",
       "      <td>4.152419</td>\n",
       "      <td>1.313988</td>\n",
       "    </tr>\n",
       "    <tr>\n",
       "      <th>8</th>\n",
       "      <td>NK5</td>\n",
       "      <td>1</td>\n",
       "      <td>WT+</td>\n",
       "      <td>6.422128</td>\n",
       "      <td>0.915766</td>\n",
       "      <td>3.562899</td>\n",
       "      <td>1.151131</td>\n",
       "    </tr>\n",
       "    <tr>\n",
       "      <th>9</th>\n",
       "      <td>NK5</td>\n",
       "      <td>1</td>\n",
       "      <td>WT+</td>\n",
       "      <td>7.012172</td>\n",
       "      <td>0.999904</td>\n",
       "      <td>3.757730</td>\n",
       "      <td>1.265635</td>\n",
       "    </tr>\n",
       "    <tr>\n",
       "      <th>10</th>\n",
       "      <td>NK6</td>\n",
       "      <td>1</td>\n",
       "      <td>WT+</td>\n",
       "      <td>4.782560</td>\n",
       "      <td>0.918775</td>\n",
       "      <td>2.727885</td>\n",
       "      <td>1.123331</td>\n",
       "    </tr>\n",
       "    <tr>\n",
       "      <th>11</th>\n",
       "      <td>NK6</td>\n",
       "      <td>1</td>\n",
       "      <td>WT+</td>\n",
       "      <td>4.902563</td>\n",
       "      <td>0.935323</td>\n",
       "      <td>2.319054</td>\n",
       "      <td>1.104609</td>\n",
       "    </tr>\n",
       "    <tr>\n",
       "      <th>12</th>\n",
       "      <td>NK7</td>\n",
       "      <td>2</td>\n",
       "      <td>KO-</td>\n",
       "      <td>8.845115</td>\n",
       "      <td>0.832130</td>\n",
       "      <td>4.907135</td>\n",
       "      <td>0.891855</td>\n",
       "    </tr>\n",
       "    <tr>\n",
       "      <th>13</th>\n",
       "      <td>NK7</td>\n",
       "      <td>2</td>\n",
       "      <td>KO-</td>\n",
       "      <td>9.094834</td>\n",
       "      <td>0.904409</td>\n",
       "      <td>5.716164</td>\n",
       "      <td>0.969322</td>\n",
       "    </tr>\n",
       "    <tr>\n",
       "      <th>14</th>\n",
       "      <td>NK8</td>\n",
       "      <td>2</td>\n",
       "      <td>KO-</td>\n",
       "      <td>9.350525</td>\n",
       "      <td>0.861574</td>\n",
       "      <td>5.010822</td>\n",
       "      <td>0.809469</td>\n",
       "    </tr>\n",
       "    <tr>\n",
       "      <th>15</th>\n",
       "      <td>NK8</td>\n",
       "      <td>2</td>\n",
       "      <td>KO-</td>\n",
       "      <td>9.897271</td>\n",
       "      <td>0.868761</td>\n",
       "      <td>4.914453</td>\n",
       "      <td>0.810582</td>\n",
       "    </tr>\n",
       "    <tr>\n",
       "      <th>16</th>\n",
       "      <td>NK9</td>\n",
       "      <td>2</td>\n",
       "      <td>KO-</td>\n",
       "      <td>10.331935</td>\n",
       "      <td>0.863961</td>\n",
       "      <td>5.614037</td>\n",
       "      <td>0.945427</td>\n",
       "    </tr>\n",
       "    <tr>\n",
       "      <th>17</th>\n",
       "      <td>NK9</td>\n",
       "      <td>2</td>\n",
       "      <td>KO-</td>\n",
       "      <td>9.879323</td>\n",
       "      <td>0.809112</td>\n",
       "      <td>5.557408</td>\n",
       "      <td>0.897766</td>\n",
       "    </tr>\n",
       "    <tr>\n",
       "      <th>18</th>\n",
       "      <td>NK10</td>\n",
       "      <td>3</td>\n",
       "      <td>KO+</td>\n",
       "      <td>16.751069</td>\n",
       "      <td>0.917755</td>\n",
       "      <td>7.978852</td>\n",
       "      <td>1.068940</td>\n",
       "    </tr>\n",
       "    <tr>\n",
       "      <th>19</th>\n",
       "      <td>NK10</td>\n",
       "      <td>3</td>\n",
       "      <td>KO+</td>\n",
       "      <td>17.132846</td>\n",
       "      <td>0.875812</td>\n",
       "      <td>7.561607</td>\n",
       "      <td>1.124040</td>\n",
       "    </tr>\n",
       "    <tr>\n",
       "      <th>20</th>\n",
       "      <td>NK11</td>\n",
       "      <td>3</td>\n",
       "      <td>KO+</td>\n",
       "      <td>14.748512</td>\n",
       "      <td>0.836535</td>\n",
       "      <td>6.554553</td>\n",
       "      <td>0.947697</td>\n",
       "    </tr>\n",
       "    <tr>\n",
       "      <th>21</th>\n",
       "      <td>NK11</td>\n",
       "      <td>3</td>\n",
       "      <td>KO+</td>\n",
       "      <td>16.796966</td>\n",
       "      <td>0.946142</td>\n",
       "      <td>7.210647</td>\n",
       "      <td>1.049810</td>\n",
       "    </tr>\n",
       "    <tr>\n",
       "      <th>22</th>\n",
       "      <td>NK12</td>\n",
       "      <td>3</td>\n",
       "      <td>KO+</td>\n",
       "      <td>18.100464</td>\n",
       "      <td>0.964568</td>\n",
       "      <td>8.100184</td>\n",
       "      <td>1.263963</td>\n",
       "    </tr>\n",
       "    <tr>\n",
       "      <th>23</th>\n",
       "      <td>NK12</td>\n",
       "      <td>3</td>\n",
       "      <td>KO+</td>\n",
       "      <td>18.112133</td>\n",
       "      <td>1.013176</td>\n",
       "      <td>8.218554</td>\n",
       "      <td>1.364985</td>\n",
       "    </tr>\n",
       "  </tbody>\n",
       "</table>\n",
       "</div>"
      ],
      "text/plain": [
       "   Sample  group group_name  HNRNPL_nmd_rel_28S+actin  \\\n",
       "0     NK1      0        WT-                  1.000000   \n",
       "1     NK1      0        WT-                  1.079228   \n",
       "2     NK2      0        WT-                  1.088049   \n",
       "3     NK2      0        WT-                  1.057239   \n",
       "4     NK3      0        WT-                  1.043294   \n",
       "5     NK3      0        WT-                  1.032528   \n",
       "6     NK4      1        WT+                  6.310374   \n",
       "7     NK4      1        WT+                  6.887364   \n",
       "8     NK5      1        WT+                  6.422128   \n",
       "9     NK5      1        WT+                  7.012172   \n",
       "10    NK6      1        WT+                  4.782560   \n",
       "11    NK6      1        WT+                  4.902563   \n",
       "12    NK7      2        KO-                  8.845115   \n",
       "13    NK7      2        KO-                  9.094834   \n",
       "14    NK8      2        KO-                  9.350525   \n",
       "15    NK8      2        KO-                  9.897271   \n",
       "16    NK9      2        KO-                 10.331935   \n",
       "17    NK9      2        KO-                  9.879323   \n",
       "18   NK10      3        KO+                 16.751069   \n",
       "19   NK10      3        KO+                 17.132846   \n",
       "20   NK11      3        KO+                 14.748512   \n",
       "21   NK11      3        KO+                 16.796966   \n",
       "22   NK12      3        KO+                 18.100464   \n",
       "23   NK12      3        KO+                 18.112133   \n",
       "\n",
       "    HNRNPL_prot_rel_28S+actin  SRSF11_nmd_rel_28S+actin  \\\n",
       "0                    1.000000                  1.000000   \n",
       "1                    1.035265                  0.779165   \n",
       "2                    1.001209                  0.774718   \n",
       "3                    1.109801                  0.870733   \n",
       "4                    0.993882                  1.043294   \n",
       "5                    1.011279                  0.844507   \n",
       "6                    0.833772                  3.726253   \n",
       "7                    0.879010                  4.152419   \n",
       "8                    0.915766                  3.562899   \n",
       "9                    0.999904                  3.757730   \n",
       "10                   0.918775                  2.727885   \n",
       "11                   0.935323                  2.319054   \n",
       "12                   0.832130                  4.907135   \n",
       "13                   0.904409                  5.716164   \n",
       "14                   0.861574                  5.010822   \n",
       "15                   0.868761                  4.914453   \n",
       "16                   0.863961                  5.614037   \n",
       "17                   0.809112                  5.557408   \n",
       "18                   0.917755                  7.978852   \n",
       "19                   0.875812                  7.561607   \n",
       "20                   0.836535                  6.554553   \n",
       "21                   0.946142                  7.210647   \n",
       "22                   0.964568                  8.100184   \n",
       "23                   1.013176                  8.218554   \n",
       "\n",
       "    SRSF11_prot_rel_28S+actin  \n",
       "0                    1.000000  \n",
       "1                    1.049717  \n",
       "2                    0.994293  \n",
       "3                    1.057239  \n",
       "4                    0.980199  \n",
       "5                    0.976831  \n",
       "6                    1.229205  \n",
       "7                    1.313988  \n",
       "8                    1.151131  \n",
       "9                    1.265635  \n",
       "10                   1.123331  \n",
       "11                   1.104609  \n",
       "12                   0.891855  \n",
       "13                   0.969322  \n",
       "14                   0.809469  \n",
       "15                   0.810582  \n",
       "16                   0.945427  \n",
       "17                   0.897766  \n",
       "18                   1.068940  \n",
       "19                   1.124040  \n",
       "20                   0.947697  \n",
       "21                   1.049810  \n",
       "22                   1.263963  \n",
       "23                   1.364985  "
      ]
     },
     "execution_count": 9,
     "metadata": {},
     "output_type": "execute_result"
    }
   ],
   "source": [
    "# get the final qpcr.Results object\n",
    "result = normaliser.get()\n",
    "# get a pandas dataframe of our results\n",
    "df = result.get()\n",
    "\n",
    "# inspect the dataframe\n",
    "df"
   ]
  },
  {
   "cell_type": "markdown",
   "metadata": {},
   "source": [
    "### 3.1 Visualise the results\n",
    "The `qpcr` module comes with a handy way to instantly generate a Barchart preview of the results we generated. To preview our results we use the `qpcr.Plotters.PreviewResults` figure class, which can either generate a static image (`matplotlib` generated) or an interactive html plot (made with `plotly`)."
   ]
  },
  {
   "cell_type": "code",
   "execution_count": 10,
   "metadata": {},
   "outputs": [],
   "source": [
    "# setup both a static and an interactive preview\n",
    "static_preview = qplots.PreviewResults(mode = \"static\")\n",
    "interactive_preview = qplots.PreviewResults(mode = \"interactive\")\n",
    "\n",
    "# link our results to the plotters\n",
    "static_preview.link(result)\n",
    "interactive_preview.link(result)"
   ]
  },
  {
   "cell_type": "markdown",
   "metadata": {},
   "source": [
    "The only thing left now is to call the `plot()` method to actually generate a figure. By the way, these previews can be easily customized by passing `**kwargs` to the `plot()` method."
   ]
  },
  {
   "cell_type": "code",
   "execution_count": 11,
   "metadata": {},
   "outputs": [
    {
     "data": {
      "image/png": "[encoded data removed]",
      "text/plain": [
       "<Figure size 576x288 with 4 Axes>"
      ]
     },
     "metadata": {
      "needs_background": "light"
     },
     "output_type": "display_data"
    }
   ],
   "source": [
    "# visualise our static preview\n",
    "fig = static_preview.plot(\n",
    "                            figsize = (8,4),\n",
    "                            color = \"crimson\",\n",
    "                            alpha = 0.7,\n",
    "                        )"
   ]
  },
  {
   "cell_type": "code",
   "execution_count": 12,
   "metadata": {},
   "outputs": [
    {
     "data": {
      "application/vnd.plotly.v1+json": {
       "config": {
        "plotlyServerURL": "https://plot.ly"
       },
       "data": [
        {
         "error_y": {
          "array": [
           0.02945229158121376,
           0.8903363671911114,
           0.5135933562765911,
           1.1266867126248468
          ],
          "type": "data"
         },
         "hoverinfo": "y",
         "name": "HNRNPL_nmd_rel_28S+actin",
         "type": "bar",
         "x": [
          "WT-",
          "WT+",
          "KO-",
          "KO+"
         ],
         "xaxis": "x",
         "y": [
          1.0500564048268677,
          6.052860136420892,
          9.566500345486746,
          16.94033154495191
         ],
         "yaxis": "y"
        },
        {
         "error_y": {
          "array": [
           0.04009141533624626,
           0.050860040535233866,
           0.029906371340444035,
           0.05785469264760957
          ],
          "type": "data"
         },
         "hoverinfo": "y",
         "name": "HNRNPL_prot_rel_28S+actin",
         "type": "bar",
         "x": [
          "WT-",
          "WT+",
          "KO-",
          "KO+"
         ],
         "xaxis": "x2",
         "y": [
          1.0252393625633935,
          0.9137583934389365,
          0.8566579868372668,
          0.9256646158981381
         ],
         "yaxis": "y2"
        },
        {
         "error_y": {
          "array": [
           0.10286521067558786,
           0.6381383870248761,
           0.3472794145696148,
           0.5805531735976305
          ],
          "type": "data"
         },
         "hoverinfo": "y",
         "name": "SRSF11_nmd_rel_28S+actin",
         "type": "bar",
         "x": [
          "WT-",
          "WT+",
          "KO-",
          "KO+"
         ],
         "xaxis": "x3",
         "y": [
          0.8854027123052152,
          3.3743731439519187,
          5.286669731071003,
          7.60406639885511
         ],
         "yaxis": "y3"
        },
        {
         "error_y": {
          "array": [
           0.03199854493599772,
           0.07691492717166386,
           0.060800024907000524,
           0.13924403191475368
          ],
          "type": "data"
         },
         "hoverinfo": "y",
         "name": "SRSF11_prot_rel_28S+actin",
         "type": "bar",
         "x": [
          "WT-",
          "WT+",
          "KO-",
          "KO+"
         ],
         "xaxis": "x4",
         "y": [
          1.0097131202011942,
          1.1979830943366605,
          0.8874035860764335,
          1.136572506743555
         ],
         "yaxis": "y4"
        }
       ],
       "layout": {
        "annotations": [
         {
          "font": {
           "size": 16
          },
          "showarrow": false,
          "text": "HNRNPL_nmd_rel_28S+actin",
          "x": 0.225,
          "xanchor": "center",
          "xref": "paper",
          "y": 1,
          "yanchor": "bottom",
          "yref": "paper"
         },
         {
          "font": {
           "size": 16
          },
          "showarrow": false,
          "text": "HNRNPL_prot_rel_28S+actin",
          "x": 0.775,
          "xanchor": "center",
          "xref": "paper",
          "y": 1,
          "yanchor": "bottom",
          "yref": "paper"
         },
         {
          "font": {
           "size": 16
          },
          "showarrow": false,
          "text": "SRSF11_nmd_rel_28S+actin",
          "x": 0.225,
          "xanchor": "center",
          "xref": "paper",
          "y": 0.375,
          "yanchor": "bottom",
          "yref": "paper"
         },
         {
          "font": {
           "size": 16
          },
          "showarrow": false,
          "text": "SRSF11_prot_rel_28S+actin",
          "x": 0.775,
          "xanchor": "center",
          "xref": "paper",
          "y": 0.375,
          "yanchor": "bottom",
          "yref": "paper"
         }
        ],
        "autosize": true,
        "legend": {
         "title": {
          "text": "assay"
         }
        },
        "margin": {
         "autoexpand": true,
         "b": 1,
         "pad": 0,
         "t": 50
        },
        "template": {
         "data": {
          "bar": [
           {
            "error_x": {
             "color": "#f2f5fa"
            },
            "error_y": {
             "color": "#f2f5fa"
            },
            "marker": {
             "line": {
              "color": "rgb(17,17,17)",
              "width": 0.5
             },
             "pattern": {
              "fillmode": "overlay",
              "size": 10,
              "solidity": 0.2
             }
            },
            "type": "bar"
           }
          ],
          "barpolar": [
           {
            "marker": {
             "line": {
              "color": "rgb(17,17,17)",
              "width": 0.5
             },
             "pattern": {
              "fillmode": "overlay",
              "size": 10,
              "solidity": 0.2
             }
            },
            "type": "barpolar"
           }
          ],
          "carpet": [
           {
            "aaxis": {
             "endlinecolor": "#A2B1C6",
             "gridcolor": "#506784",
             "linecolor": "#506784",
             "minorgridcolor": "#506784",
             "startlinecolor": "#A2B1C6"
            },
            "baxis": {
             "endlinecolor": "#A2B1C6",
             "gridcolor": "#506784",
             "linecolor": "#506784",
             "minorgridcolor": "#506784",
             "startlinecolor": "#A2B1C6"
            },
            "type": "carpet"
           }
          ],
          "choropleth": [
           {
            "colorbar": {
             "outlinewidth": 0,
             "ticks": ""
            },
            "type": "choropleth"
           }
          ],
          "contour": [
           {
            "colorbar": {
             "outlinewidth": 0,
             "ticks": ""
            },
            "colorscale": [
             [
              0,
              "#0d0887"
             ],
             [
              0.1111111111111111,
              "#46039f"
             ],
             [
              0.2222222222222222,
              "#7201a8"
             ],
             [
              0.3333333333333333,
              "#9c179e"
             ],
             [
              0.4444444444444444,
              "#bd3786"
             ],
             [
              0.5555555555555556,
              "#d8576b"
             ],
             [
              0.6666666666666666,
              "#ed7953"
             ],
             [
              0.7777777777777778,
              "#fb9f3a"
             ],
             [
              0.8888888888888888,
              "#fdca26"
             ],
             [
              1,
              "#f0f921"
             ]
            ],
            "type": "contour"
           }
          ],
          "contourcarpet": [
           {
            "colorbar": {
             "outlinewidth": 0,
             "ticks": ""
            },
            "type": "contourcarpet"
           }
          ],
          "heatmap": [
           {
            "colorbar": {
             "outlinewidth": 0,
             "ticks": ""
            },
            "colorscale": [
             [
              0,
              "#0d0887"
             ],
             [
              0.1111111111111111,
              "#46039f"
             ],
             [
              0.2222222222222222,
              "#7201a8"
             ],
             [
              0.3333333333333333,
              "#9c179e"
             ],
             [
              0.4444444444444444,
              "#bd3786"
             ],
             [
              0.5555555555555556,
              "#d8576b"
             ],
             [
              0.6666666666666666,
              "#ed7953"
             ],
             [
              0.7777777777777778,
              "#fb9f3a"
             ],
             [
              0.8888888888888888,
              "#fdca26"
             ],
             [
              1,
              "#f0f921"
             ]
            ],
            "type": "heatmap"
           }
          ],
          "heatmapgl": [
           {
            "colorbar": {
             "outlinewidth": 0,
             "ticks": ""
            },
            "colorscale": [
             [
              0,
              "#0d0887"
             ],
             [
              0.1111111111111111,
              "#46039f"
             ],
             [
              0.2222222222222222,
              "#7201a8"
             ],
             [
              0.3333333333333333,
              "#9c179e"
             ],
             [
              0.4444444444444444,
              "#bd3786"
             ],
             [
              0.5555555555555556,
              "#d8576b"
             ],
             [
              0.6666666666666666,
              "#ed7953"
             ],
             [
              0.7777777777777778,
              "#fb9f3a"
             ],
             [
              0.8888888888888888,
              "#fdca26"
             ],
             [
              1,
              "#f0f921"
             ]
            ],
            "type": "heatmapgl"
           }
          ],
          "histogram": [
           {
            "marker": {
             "pattern": {
              "fillmode": "overlay",
              "size": 10,
              "solidity": 0.2
             }
            },
            "type": "histogram"
           }
          ],
          "histogram2d": [
           {
            "colorbar": {
             "outlinewidth": 0,
             "ticks": ""
            },
            "colorscale": [
             [
              0,
              "#0d0887"
             ],
             [
              0.1111111111111111,
              "#46039f"
             ],
             [
              0.2222222222222222,
              "#7201a8"
             ],
             [
              0.3333333333333333,
              "#9c179e"
             ],
             [
              0.4444444444444444,
              "#bd3786"
             ],
             [
              0.5555555555555556,
              "#d8576b"
             ],
             [
              0.6666666666666666,
              "#ed7953"
             ],
             [
              0.7777777777777778,
              "#fb9f3a"
             ],
             [
              0.8888888888888888,
              "#fdca26"
             ],
             [
              1,
              "#f0f921"
             ]
            ],
            "type": "histogram2d"
           }
          ],
          "histogram2dcontour": [
           {
            "colorbar": {
             "outlinewidth": 0,
             "ticks": ""
            },
            "colorscale": [
             [
              0,
              "#0d0887"
             ],
             [
              0.1111111111111111,
              "#46039f"
             ],
             [
              0.2222222222222222,
              "#7201a8"
             ],
             [
              0.3333333333333333,
              "#9c179e"
             ],
             [
              0.4444444444444444,
              "#bd3786"
             ],
             [
              0.5555555555555556,
              "#d8576b"
             ],
             [
              0.6666666666666666,
              "#ed7953"
             ],
             [
              0.7777777777777778,
              "#fb9f3a"
             ],
             [
              0.8888888888888888,
              "#fdca26"
             ],
             [
              1,
              "#f0f921"
             ]
            ],
            "type": "histogram2dcontour"
           }
          ],
          "mesh3d": [
           {
            "colorbar": {
             "outlinewidth": 0,
             "ticks": ""
            },
            "type": "mesh3d"
           }
          ],
          "parcoords": [
           {
            "line": {
             "colorbar": {
              "outlinewidth": 0,
              "ticks": ""
             }
            },
            "type": "parcoords"
           }
          ],
          "pie": [
           {
            "automargin": true,
            "type": "pie"
           }
          ],
          "scatter": [
           {
            "marker": {
             "line": {
              "color": "#283442"
             }
            },
            "type": "scatter"
           }
          ],
          "scatter3d": [
           {
            "line": {
             "colorbar": {
              "outlinewidth": 0,
              "ticks": ""
             }
            },
            "marker": {
             "colorbar": {
              "outlinewidth": 0,
              "ticks": ""
             }
            },
            "type": "scatter3d"
           }
          ],
          "scattercarpet": [
           {
            "marker": {
             "colorbar": {
              "outlinewidth": 0,
              "ticks": ""
             }
            },
            "type": "scattercarpet"
           }
          ],
          "scattergeo": [
           {
            "marker": {
             "colorbar": {
              "outlinewidth": 0,
              "ticks": ""
             }
            },
            "type": "scattergeo"
           }
          ],
          "scattergl": [
           {
            "marker": {
             "line": {
              "color": "#283442"
             }
            },
            "type": "scattergl"
           }
          ],
          "scattermapbox": [
           {
            "marker": {
             "colorbar": {
              "outlinewidth": 0,
              "ticks": ""
             }
            },
            "type": "scattermapbox"
           }
          ],
          "scatterpolar": [
           {
            "marker": {
             "colorbar": {
              "outlinewidth": 0,
              "ticks": ""
             }
            },
            "type": "scatterpolar"
           }
          ],
          "scatterpolargl": [
           {
            "marker": {
             "colorbar": {
              "outlinewidth": 0,
              "ticks": ""
             }
            },
            "type": "scatterpolargl"
           }
          ],
          "scatterternary": [
           {
            "marker": {
             "colorbar": {
              "outlinewidth": 0,
              "ticks": ""
             }
            },
            "type": "scatterternary"
           }
          ],
          "surface": [
           {
            "colorbar": {
             "outlinewidth": 0,
             "ticks": ""
            },
            "colorscale": [
             [
              0,
              "#0d0887"
             ],
             [
              0.1111111111111111,
              "#46039f"
             ],
             [
              0.2222222222222222,
              "#7201a8"
             ],
             [
              0.3333333333333333,
              "#9c179e"
             ],
             [
              0.4444444444444444,
              "#bd3786"
             ],
             [
              0.5555555555555556,
              "#d8576b"
             ],
             [
              0.6666666666666666,
              "#ed7953"
             ],
             [
              0.7777777777777778,
              "#fb9f3a"
             ],
             [
              0.8888888888888888,
              "#fdca26"
             ],
             [
              1,
              "#f0f921"
             ]
            ],
            "type": "surface"
           }
          ],
          "table": [
           {
            "cells": {
             "fill": {
              "color": "#506784"
             },
             "line": {
              "color": "rgb(17,17,17)"
             }
            },
            "header": {
             "fill": {
              "color": "#2a3f5f"
             },
             "line": {
              "color": "rgb(17,17,17)"
             }
            },
            "type": "table"
           }
          ]
         },
         "layout": {
          "annotationdefaults": {
           "arrowcolor": "#f2f5fa",
           "arrowhead": 0,
           "arrowwidth": 1
          },
          "autotypenumbers": "strict",
          "coloraxis": {
           "colorbar": {
            "outlinewidth": 0,
            "ticks": ""
           }
          },
          "colorscale": {
           "diverging": [
            [
             0,
             "#8e0152"
            ],
            [
             0.1,
             "#c51b7d"
            ],
            [
             0.2,
             "#de77ae"
            ],
            [
             0.3,
             "#f1b6da"
            ],
            [
             0.4,
             "#fde0ef"
            ],
            [
             0.5,
             "#f7f7f7"
            ],
            [
             0.6,
             "#e6f5d0"
            ],
            [
             0.7,
             "#b8e186"
            ],
            [
             0.8,
             "#7fbc41"
            ],
            [
             0.9,
             "#4d9221"
            ],
            [
             1,
             "#276419"
            ]
           ],
           "sequential": [
            [
             0,
             "#0d0887"
            ],
            [
             0.1111111111111111,
             "#46039f"
            ],
            [
             0.2222222222222222,
             "#7201a8"
            ],
            [
             0.3333333333333333,
             "#9c179e"
            ],
            [
             0.4444444444444444,
             "#bd3786"
            ],
            [
             0.5555555555555556,
             "#d8576b"
            ],
            [
             0.6666666666666666,
             "#ed7953"
            ],
            [
             0.7777777777777778,
             "#fb9f3a"
            ],
            [
             0.8888888888888888,
             "#fdca26"
            ],
            [
             1,
             "#f0f921"
            ]
           ],
           "sequentialminus": [
            [
             0,
             "#0d0887"
            ],
            [
             0.1111111111111111,
             "#46039f"
            ],
            [
             0.2222222222222222,
             "#7201a8"
            ],
            [
             0.3333333333333333,
             "#9c179e"
            ],
            [
             0.4444444444444444,
             "#bd3786"
            ],
            [
             0.5555555555555556,
             "#d8576b"
            ],
            [
             0.6666666666666666,
             "#ed7953"
            ],
            [
             0.7777777777777778,
             "#fb9f3a"
            ],
            [
             0.8888888888888888,
             "#fdca26"
            ],
            [
             1,
             "#f0f921"
            ]
           ]
          },
          "colorway": [
           "#636efa",
           "#EF553B",
           "#00cc96",
           "#ab63fa",
           "#FFA15A",
           "#19d3f3",
           "#FF6692",
           "#B6E880",
           "#FF97FF",
           "#FECB52"
          ],
          "font": {
           "color": "#f2f5fa"
          },
          "geo": {
           "bgcolor": "rgb(17,17,17)",
           "lakecolor": "rgb(17,17,17)",
           "landcolor": "rgb(17,17,17)",
           "showlakes": true,
           "showland": true,
           "subunitcolor": "#506784"
          },
          "hoverlabel": {
           "align": "left"
          },
          "hovermode": "closest",
          "mapbox": {
           "style": "dark"
          },
          "paper_bgcolor": "rgb(17,17,17)",
          "plot_bgcolor": "rgb(17,17,17)",
          "polar": {
           "angularaxis": {
            "gridcolor": "#506784",
            "linecolor": "#506784",
            "ticks": ""
           },
           "bgcolor": "rgb(17,17,17)",
           "radialaxis": {
            "gridcolor": "#506784",
            "linecolor": "#506784",
            "ticks": ""
           }
          },
          "scene": {
           "xaxis": {
            "backgroundcolor": "rgb(17,17,17)",
            "gridcolor": "#506784",
            "gridwidth": 2,
            "linecolor": "#506784",
            "showbackground": true,
            "ticks": "",
            "zerolinecolor": "#C8D4E3"
           },
           "yaxis": {
            "backgroundcolor": "rgb(17,17,17)",
            "gridcolor": "#506784",
            "gridwidth": 2,
            "linecolor": "#506784",
            "showbackground": true,
            "ticks": "",
            "zerolinecolor": "#C8D4E3"
           },
           "zaxis": {
            "backgroundcolor": "rgb(17,17,17)",
            "gridcolor": "#506784",
            "gridwidth": 2,
            "linecolor": "#506784",
            "showbackground": true,
            "ticks": "",
            "zerolinecolor": "#C8D4E3"
           }
          },
          "shapedefaults": {
           "line": {
            "color": "#f2f5fa"
           }
          },
          "sliderdefaults": {
           "bgcolor": "#C8D4E3",
           "bordercolor": "rgb(17,17,17)",
           "borderwidth": 1,
           "tickwidth": 0
          },
          "ternary": {
           "aaxis": {
            "gridcolor": "#506784",
            "linecolor": "#506784",
            "ticks": ""
           },
           "baxis": {
            "gridcolor": "#506784",
            "linecolor": "#506784",
            "ticks": ""
           },
           "bgcolor": "rgb(17,17,17)",
           "caxis": {
            "gridcolor": "#506784",
            "linecolor": "#506784",
            "ticks": ""
           }
          },
          "title": {
           "x": 0.05
          },
          "updatemenudefaults": {
           "bgcolor": "#506784",
           "borderwidth": 0
          },
          "xaxis": {
           "automargin": true,
           "gridcolor": "#283442",
           "linecolor": "#506784",
           "ticks": "",
           "title": {
            "standoff": 15
           },
           "zerolinecolor": "#283442",
           "zerolinewidth": 2
          },
          "yaxis": {
           "automargin": true,
           "gridcolor": "#283442",
           "linecolor": "#506784",
           "ticks": "",
           "title": {
            "standoff": 15
           },
           "zerolinecolor": "#283442",
           "zerolinewidth": 2
          }
         }
        },
        "title": {
         "text": "Preview of Results"
        },
        "xaxis": {
         "anchor": "y",
         "domain": [
          0,
          0.45
         ]
        },
        "xaxis2": {
         "anchor": "y2",
         "domain": [
          0.55,
          1
         ]
        },
        "xaxis3": {
         "anchor": "y3",
         "domain": [
          0,
          0.45
         ]
        },
        "xaxis4": {
         "anchor": "y4",
         "domain": [
          0.55,
          1
         ]
        },
        "yaxis": {
         "anchor": "x",
         "domain": [
          0.625,
          1
         ]
        },
        "yaxis2": {
         "anchor": "x2",
         "domain": [
          0.625,
          1
         ]
        },
        "yaxis3": {
         "anchor": "x3",
         "domain": [
          0,
          0.375
         ]
        },
        "yaxis4": {
         "anchor": "x4",
         "domain": [
          0,
          0.375
         ]
        }
       }
      }
     },
     "metadata": {},
     "output_type": "display_data"
    }
   ],
   "source": [
    "# visualise our interactive preview\n",
    "fig2 = interactive_preview.plot(\n",
    "                                    template = \"plotly_dark\"\n",
    "                                )"
   ]
  },
  {
   "cell_type": "markdown",
   "metadata": {},
   "source": [
    "At this point we have reached the end of this basic tutorial. You are now able to use the basic building blocks of the main `qpcr` module. We have, of course, not talked about the customisibility of each step but have been using default settings. Please, check out the documentation to learn more about how each step can be streamlined to your needs. "
   ]
  },
  {
   "cell_type": "code",
   "execution_count": 15,
   "metadata": {},
   "outputs": [
    {
     "name": "stderr",
     "output_type": "stream",
     "text": [
      "/Users/NoahHK/opt/anaconda3/lib/python3.8/site-packages/qpcr/__init__.py:1688: FutureWarning:\n",
      "\n",
      "Dropping of nuisance columns in DataFrame reductions (with 'numeric_only=None') is deprecated; in a future version this will raise TypeError.  Select only valid columns before calling the reduction.\n",
      "\n"
     ]
    },
    {
     "data": {
      "image/png": "[encoded data removed]",
      "text/plain": [
       "<Figure size 432x288 with 4 Axes>"
      ]
     },
     "metadata": {
      "needs_background": "light"
     },
     "output_type": "display_data"
    }
   ],
   "source": [
    "\"\"\"\n",
    "Here is just again our entire workflow with all the code we just wrote:\n",
    "\"\"\"\n",
    "# get our datafiles\n",
    "normaliser_files = [\n",
    "    \"../Example Data/28S.csv\",\n",
    "    \"../Example Data/actin.csv\"\n",
    "]\n",
    "\n",
    "assay_files = [\n",
    "    \"../Example Data/HNRNPL_nmd.csv\",\n",
    "    \"../Example Data/HNRNPL_prot.csv\",\n",
    "    \"../Example Data/SRSF11_nmd.csv\",\n",
    "    \"../Example Data/SRSF11_prot.csv\",\n",
    "]\n",
    "\n",
    "# define our experimental parameters\n",
    "reps = 6\n",
    "group_names = [\"WT-\", \"WT+\", \"KO-\", \"KO+\"] \n",
    "\n",
    "# setup the pipeline, starting with the SampleReader\n",
    "reader = qpcr.SampleReader()\n",
    "reader.replicates(reps)\n",
    "reader.names(group_names)\n",
    "\n",
    "analyser = qpcr.Analyser()\n",
    "normaliser = qpcr.Normaliser()\n",
    "\n",
    "# empty lists for the Results from the qpcr.Analyser \n",
    "normalisers = []\n",
    "assays = []\n",
    "\n",
    "# now feed in our data\n",
    "\n",
    "# we first iterate over the normalisers 28S and actin\n",
    "for norm in normaliser_files:\n",
    "    norm = reader.read(norm)\n",
    "    norm = analyser.pipe(norm)\n",
    "    normalisers.append(norm)\n",
    "\n",
    "# and we do the same for our assays-of-interest of HNRPL and SRSF11\n",
    "for assay in assay_files:\n",
    "    assay = reader.read(assay)\n",
    "    assay = analyser.pipe(assay)\n",
    "    assays.append(assay)\n",
    "\n",
    "# normalise\n",
    "normaliser.link(assays = assays, normalisers = normalisers)\n",
    "normaliser.normalise()\n",
    "\n",
    "# get results\n",
    "result = normaliser.get()\n",
    "\n",
    "# generate a preview\n",
    "preview = qplots.PreviewResults(mode = \"static\")\n",
    "preview.link(result)\n",
    "fig = preview.plot()"
   ]
  },
  {
   "cell_type": "markdown",
   "metadata": {},
   "source": [
    "Using these skills you can now develop your own analysis `pipelines`. In fact, this basic analysis workflow is already pre-implemented in the form of the `Basic` and `BasicPlus` pipelines of the `qpcr.Pipes` sub-module. How to use these pipelines is described in the notebook `2_pipeline_tutorial.ipynb`."
   ]
  }
 ],
 "metadata": {
  "interpreter": {
   "hash": "652a90e61eb9c1f97ec337805654fe3aa8651960163f76bc5e0407c363634b53"
  },
  "kernelspec": {
   "display_name": "Python 3.8.12 64-bit ('base': conda)",
   "language": "python",
   "name": "python3"
  },
  "language_info": {
   "codemirror_mode": {
    "name": "ipython",
    "version": 3
   },
   "file_extension": ".py",
   "mimetype": "text/x-python",
   "name": "python",
   "nbconvert_exporter": "python",
   "pygments_lexer": "ipython3",
   "version": "3.8.12"
  },
  "orig_nbformat": 4
 },
 "nbformat": 4,
 "nbformat_minor": 2
}
