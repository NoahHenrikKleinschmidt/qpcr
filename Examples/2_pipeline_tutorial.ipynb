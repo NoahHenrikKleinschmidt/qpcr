{
 "cells": [
  {
   "cell_type": "markdown",
   "metadata": {},
   "source": [
    "# Data analysis using a pipeline\n",
    "\n",
    "This notebook gives an example of analysing data using the pre-implemented `BasicPlus` analysis pipeline of the `qpcr.Pipes` sub-module.\n",
    "It makes use of the provided example data in the `Example Data` directory. \n",
    "\n",
    "\n",
    "#### Experimental background\n",
    "\n",
    "The corresponding experimental setup was as follows: \n",
    "Levels of Nonsense-mediated mRNA decay (NMD) sensitive (nmd) and insensitive (prot) transcript isoforms of HNRNPL and SRSF11 were measured by qPCR. As normalisers both 28S rRNA and Actin transcript levels were measured. The replicates are biological triplicates and technical douplicates. All measurements from the same qPCR sample were merged into hexaplicates (6 replicates). This was done in two separate HeLa cell lines (one with a specific gene knockout (KO), and one without (WT)), which were both treated to a plasmid-mediated rescue (+) or not (-), leading to four experimental conditions:\n",
    "\n",
    "| cell line \\\\ condition | rescue | no rescue |\n",
    "| ---------------------- | ------ | --------- |\n",
    "| knockout               | KO+    | KO-       |\n",
    "| wildtype               | WT+    | WT-       |\n",
    "\n",
    "\n",
    "\n",
    "#### Simple Analysis\n",
    "In this example we will perform the same basic Delta-Delta Ct analysis, we did in the manual tutorial from `1_manual_tutorial.ipynb`. However, this time weill be using the pre-implemented `BasicPlus` pipeline of the `qpcr.Pipes` sub-module to make our life easier."
   ]
  },
  {
   "cell_type": "code",
   "execution_count": 1,
   "metadata": {},
   "outputs": [],
   "source": [
    "# import what we need\n",
    "from qpcr.Pipes import BasicPlus\n",
    "from qpcr.Plotters import PreviewResults"
   ]
  },
  {
   "cell_type": "markdown",
   "metadata": {},
   "source": [
    "## Step 1 - Setting up the Pipeline\n",
    "---"
   ]
  },
  {
   "cell_type": "markdown",
   "metadata": {},
   "source": [
    "### 1.1 Setting up the `BasicPlus` pipeline\n",
    "Conveniently, we do not have to define our own `qpcr.SampleReader` and `qpcr.Analyser` etc. anymore as the pipeline will handle this already. When using the pipelines our only concern is linking the data and specifying the experimental setup. \n",
    "Additionally, we can link `qpcr.Plotters` objects such as the `PreviewResults` figure class to inspect our results later on.  "
   ]
  },
  {
   "cell_type": "code",
   "execution_count": 2,
   "metadata": {},
   "outputs": [],
   "source": [
    "# setup the pipeline\n",
    "pipeline = BasicPlus()\n",
    "\n",
    "# (yes, that's it already...)"
   ]
  },
  {
   "cell_type": "markdown",
   "metadata": {},
   "source": [
    "If we wanted to save the results to a specific location (which we normally would like to do) we can set a specific location to save to using the `save_to` method."
   ]
  },
  {
   "cell_type": "code",
   "execution_count": 3,
   "metadata": {},
   "outputs": [],
   "source": [
    "pipeline.save_to(\"./Example Results\")"
   ]
  },
  {
   "cell_type": "markdown",
   "metadata": {},
   "source": [
    "### 1.2 Setting up the data\n",
    "The pipeline is designed to work either with a list of `filepaths` or with `directory` paths that contain the datafiles (if normalisers and sample assays are stored separately). Since we already generated filepath lists in the previous tutorial we will simply re-use these here."
   ]
  },
  {
   "cell_type": "code",
   "execution_count": 4,
   "metadata": {},
   "outputs": [],
   "source": [
    "# get our datafiles\n",
    "normaliser_files = [\n",
    "                        \"./Example Data/28S.csv\",\n",
    "                        \"./Example Data/actin.csv\"\n",
    "                ]\n",
    "\n",
    "sample_files = [\n",
    "                    \"./Example Data/HNRNPL_nmd.csv\",\n",
    "                    \"./Example Data/HNRNPL_prot.csv\",\n",
    "                    \"./Example Data/SRSF11_nmd.csv\",\n",
    "                    \"./Example Data/SRSF11_prot.csv\",\n",
    "            ]\n",
    "\n",
    "# define our experimental parameters\n",
    "reps = 6\n",
    "group_names = [\"WT-\", \"WT+\", \"KO-\", \"KO+\"] "
   ]
  },
  {
   "cell_type": "markdown",
   "metadata": {},
   "source": [
    "### 1.3 Setting up the Preview for later\n",
    "Since we want to generate a preview of our results, we must set up a `qpcr.Plotters.PreviewResults` object that we can link to the pipeline. This step we will still have to do manually, because we must specify if we want an interactive or static preview."
   ]
  },
  {
   "cell_type": "code",
   "execution_count": 5,
   "metadata": {},
   "outputs": [],
   "source": [
    "# setup our preview\n",
    "preview = PreviewResults(mode = \"static\")\n",
    "\n",
    "# and link our preview to the pipeline\n",
    "pipeline.add_plotters(preview)"
   ]
  },
  {
   "cell_type": "markdown",
   "metadata": {},
   "source": [
    "> Note\n",
    ">\n",
    "> Of course, you can still manually plot the results from the pipeline after it was run using the `get` method from the pipeline to get the `qpcr.Results` object and then `linking` that to the `PreviewPlotter` as in: \n",
    "<br>\n",
    ">\n",
    "> ```python\n",
    ">   # get qpcr.Results object (by default pipelines already \n",
    ">   # return dataframes using their get methods)\n",
    ">   results = pipeline.get( kind = \"obj\" )\n",
    ">\n",
    ">   # link results and plot\n",
    ">   preview.link(results)\n",
    ">   preview.plot()\n",
    "> ```"
   ]
  },
  {
   "cell_type": "markdown",
   "metadata": {},
   "source": [
    "## Step 2 - Feed our data to the pipeline\n",
    "---\n",
    "Next we feed our pipeline with our experimental data."
   ]
  },
  {
   "cell_type": "code",
   "execution_count": 6,
   "metadata": {},
   "outputs": [],
   "source": [
    "# first we add the experimental setup \n",
    "pipeline.replicates(reps)\n",
    "pipeline.names(group_names)\n",
    "\n",
    "# now we add the datafiles\n",
    "pipeline.add_assays(sample_files)\n",
    "pipeline.add_normalisers(normaliser_files)"
   ]
  },
  {
   "cell_type": "markdown",
   "metadata": {},
   "source": [
    "## Step 3 - Running everything\n",
    "\n",
    "### 3.1 Hitting the `run()` button 🕹\n",
    "Now that we are all set up, we are ready to go. The only thing to do now is to run the pipeline by calling the `run()` method."
   ]
  },
  {
   "cell_type": "code",
   "execution_count": 7,
   "metadata": {},
   "outputs": [
    {
     "data": {
      "image/png": "[encoded data removed]",
      "text/plain": [
       "<Figure size 432x288 with 4 Axes>"
      ]
     },
     "metadata": {
      "needs_background": "light"
     },
     "output_type": "display_data"
    }
   ],
   "source": [
    "# run the pipeline\n",
    "pipeline.run()"
   ]
  },
  {
   "cell_type": "markdown",
   "metadata": {},
   "source": [
    "## Step 4 - Inspecting the results\n",
    "---\n",
    "### 4.1 Getting our results\n",
    "In order to get our results we can, again, use the `get()` method. For pipelines the `get()` method can return either `pandas DataFrames` with the individual replicate values or summary statistics, or the underlying `qpcr.Results` object. Check out the documentation for more details."
   ]
  },
  {
   "cell_type": "code",
   "execution_count": 8,
   "metadata": {},
   "outputs": [
    {
     "data": {
      "text/html": [
       "<div>\n",
       "<style scoped>\n",
       "    .dataframe tbody tr th:only-of-type {\n",
       "        vertical-align: middle;\n",
       "    }\n",
       "\n",
       "    .dataframe tbody tr th {\n",
       "        vertical-align: top;\n",
       "    }\n",
       "\n",
       "    .dataframe thead th {\n",
       "        text-align: right;\n",
       "    }\n",
       "</style>\n",
       "<table border=\"1\" class=\"dataframe\">\n",
       "  <thead>\n",
       "    <tr style=\"text-align: right;\">\n",
       "      <th></th>\n",
       "      <th>group</th>\n",
       "      <th>assay</th>\n",
       "      <th>mean</th>\n",
       "      <th>stdev</th>\n",
       "      <th>median</th>\n",
       "      <th>group_name</th>\n",
       "    </tr>\n",
       "  </thead>\n",
       "  <tbody>\n",
       "    <tr>\n",
       "      <th>0</th>\n",
       "      <td>0</td>\n",
       "      <td>HNRNPL_nmd_rel_28S+actin</td>\n",
       "      <td>1.050056</td>\n",
       "      <td>0.029452</td>\n",
       "      <td>1.050267</td>\n",
       "      <td>WT-</td>\n",
       "    </tr>\n",
       "    <tr>\n",
       "      <th>4</th>\n",
       "      <td>1</td>\n",
       "      <td>HNRNPL_nmd_rel_28S+actin</td>\n",
       "      <td>6.052860</td>\n",
       "      <td>0.890336</td>\n",
       "      <td>6.366251</td>\n",
       "      <td>WT+</td>\n",
       "    </tr>\n",
       "    <tr>\n",
       "      <th>8</th>\n",
       "      <td>2</td>\n",
       "      <td>HNRNPL_nmd_rel_28S+actin</td>\n",
       "      <td>9.566500</td>\n",
       "      <td>0.513593</td>\n",
       "      <td>9.614924</td>\n",
       "      <td>KO-</td>\n",
       "    </tr>\n",
       "    <tr>\n",
       "      <th>12</th>\n",
       "      <td>3</td>\n",
       "      <td>HNRNPL_nmd_rel_28S+actin</td>\n",
       "      <td>16.940332</td>\n",
       "      <td>1.126687</td>\n",
       "      <td>16.964906</td>\n",
       "      <td>KO+</td>\n",
       "    </tr>\n",
       "    <tr>\n",
       "      <th>1</th>\n",
       "      <td>0</td>\n",
       "      <td>HNRNPL_prot_rel_28S+actin</td>\n",
       "      <td>1.025239</td>\n",
       "      <td>0.040091</td>\n",
       "      <td>1.006244</td>\n",
       "      <td>WT-</td>\n",
       "    </tr>\n",
       "    <tr>\n",
       "      <th>5</th>\n",
       "      <td>1</td>\n",
       "      <td>HNRNPL_prot_rel_28S+actin</td>\n",
       "      <td>0.913758</td>\n",
       "      <td>0.050860</td>\n",
       "      <td>0.917271</td>\n",
       "      <td>WT+</td>\n",
       "    </tr>\n",
       "    <tr>\n",
       "      <th>9</th>\n",
       "      <td>2</td>\n",
       "      <td>HNRNPL_prot_rel_28S+actin</td>\n",
       "      <td>0.856658</td>\n",
       "      <td>0.029906</td>\n",
       "      <td>0.862768</td>\n",
       "      <td>KO-</td>\n",
       "    </tr>\n",
       "    <tr>\n",
       "      <th>13</th>\n",
       "      <td>3</td>\n",
       "      <td>HNRNPL_prot_rel_28S+actin</td>\n",
       "      <td>0.925665</td>\n",
       "      <td>0.057855</td>\n",
       "      <td>0.931949</td>\n",
       "      <td>KO+</td>\n",
       "    </tr>\n",
       "    <tr>\n",
       "      <th>2</th>\n",
       "      <td>0</td>\n",
       "      <td>SRSF11_nmd_rel_28S+actin</td>\n",
       "      <td>0.885403</td>\n",
       "      <td>0.102865</td>\n",
       "      <td>0.857620</td>\n",
       "      <td>WT-</td>\n",
       "    </tr>\n",
       "    <tr>\n",
       "      <th>6</th>\n",
       "      <td>1</td>\n",
       "      <td>SRSF11_nmd_rel_28S+actin</td>\n",
       "      <td>3.374373</td>\n",
       "      <td>0.638138</td>\n",
       "      <td>3.644576</td>\n",
       "      <td>WT+</td>\n",
       "    </tr>\n",
       "    <tr>\n",
       "      <th>10</th>\n",
       "      <td>2</td>\n",
       "      <td>SRSF11_nmd_rel_28S+actin</td>\n",
       "      <td>5.286670</td>\n",
       "      <td>0.347279</td>\n",
       "      <td>5.284115</td>\n",
       "      <td>KO-</td>\n",
       "    </tr>\n",
       "    <tr>\n",
       "      <th>14</th>\n",
       "      <td>3</td>\n",
       "      <td>SRSF11_nmd_rel_28S+actin</td>\n",
       "      <td>7.604066</td>\n",
       "      <td>0.580553</td>\n",
       "      <td>7.770230</td>\n",
       "      <td>KO+</td>\n",
       "    </tr>\n",
       "    <tr>\n",
       "      <th>3</th>\n",
       "      <td>0</td>\n",
       "      <td>SRSF11_prot_rel_28S+actin</td>\n",
       "      <td>1.009713</td>\n",
       "      <td>0.031999</td>\n",
       "      <td>0.997147</td>\n",
       "      <td>WT-</td>\n",
       "    </tr>\n",
       "    <tr>\n",
       "      <th>7</th>\n",
       "      <td>1</td>\n",
       "      <td>SRSF11_prot_rel_28S+actin</td>\n",
       "      <td>1.197983</td>\n",
       "      <td>0.076915</td>\n",
       "      <td>1.190168</td>\n",
       "      <td>WT+</td>\n",
       "    </tr>\n",
       "    <tr>\n",
       "      <th>11</th>\n",
       "      <td>2</td>\n",
       "      <td>SRSF11_prot_rel_28S+actin</td>\n",
       "      <td>0.887404</td>\n",
       "      <td>0.060800</td>\n",
       "      <td>0.894811</td>\n",
       "      <td>KO-</td>\n",
       "    </tr>\n",
       "    <tr>\n",
       "      <th>15</th>\n",
       "      <td>3</td>\n",
       "      <td>SRSF11_prot_rel_28S+actin</td>\n",
       "      <td>1.136573</td>\n",
       "      <td>0.139244</td>\n",
       "      <td>1.096490</td>\n",
       "      <td>KO+</td>\n",
       "    </tr>\n",
       "  </tbody>\n",
       "</table>\n",
       "</div>"
      ],
      "text/plain": [
       "    group                      assay       mean     stdev     median  \\\n",
       "0       0   HNRNPL_nmd_rel_28S+actin   1.050056  0.029452   1.050267   \n",
       "4       1   HNRNPL_nmd_rel_28S+actin   6.052860  0.890336   6.366251   \n",
       "8       2   HNRNPL_nmd_rel_28S+actin   9.566500  0.513593   9.614924   \n",
       "12      3   HNRNPL_nmd_rel_28S+actin  16.940332  1.126687  16.964906   \n",
       "1       0  HNRNPL_prot_rel_28S+actin   1.025239  0.040091   1.006244   \n",
       "5       1  HNRNPL_prot_rel_28S+actin   0.913758  0.050860   0.917271   \n",
       "9       2  HNRNPL_prot_rel_28S+actin   0.856658  0.029906   0.862768   \n",
       "13      3  HNRNPL_prot_rel_28S+actin   0.925665  0.057855   0.931949   \n",
       "2       0   SRSF11_nmd_rel_28S+actin   0.885403  0.102865   0.857620   \n",
       "6       1   SRSF11_nmd_rel_28S+actin   3.374373  0.638138   3.644576   \n",
       "10      2   SRSF11_nmd_rel_28S+actin   5.286670  0.347279   5.284115   \n",
       "14      3   SRSF11_nmd_rel_28S+actin   7.604066  0.580553   7.770230   \n",
       "3       0  SRSF11_prot_rel_28S+actin   1.009713  0.031999   0.997147   \n",
       "7       1  SRSF11_prot_rel_28S+actin   1.197983  0.076915   1.190168   \n",
       "11      2  SRSF11_prot_rel_28S+actin   0.887404  0.060800   0.894811   \n",
       "15      3  SRSF11_prot_rel_28S+actin   1.136573  0.139244   1.096490   \n",
       "\n",
       "   group_name  \n",
       "0         WT-  \n",
       "4         WT+  \n",
       "8         KO-  \n",
       "12        KO+  \n",
       "1         WT-  \n",
       "5         WT+  \n",
       "9         KO-  \n",
       "13        KO+  \n",
       "2         WT-  \n",
       "6         WT+  \n",
       "10        KO-  \n",
       "14        KO+  \n",
       "3         WT-  \n",
       "7         WT+  \n",
       "11        KO-  \n",
       "15        KO+  "
      ]
     },
     "execution_count": 8,
     "metadata": {},
     "output_type": "execute_result"
    }
   ],
   "source": [
    "# get our results as summary statistics (that's the default return format)\n",
    "summary_stats = pipeline.get()\n",
    "\n",
    "# and inspect\n",
    "summary_stats"
   ]
  },
  {
   "cell_type": "markdown",
   "metadata": {},
   "source": [
    "At this point we have reached the end of this tutorial. You are now able to use the `BasicPlus` pipeline to analyse your data. The `Basic` pipeline works just the same, except that it does not support the linking of a Plotters."
   ]
  },
  {
   "cell_type": "code",
   "execution_count": null,
   "metadata": {},
   "outputs": [],
   "source": [
    "\"\"\"\n",
    "Here is just again our entire workflow with all the code we just wrote:\n",
    "\"\"\"\n",
    "# get our datafiles\n",
    "normaliser_files = [\n",
    "                        \"./Example Data/28S.csv\",\n",
    "                        \"./Example Data/actin.csv\"\n",
    "                ]\n",
    "\n",
    "sample_files = [\n",
    "                    \"./Example Data/HNRNPL_nmd.csv\",\n",
    "                    \"./Example Data/HNRNPL_prot.csv\",\n",
    "                    \"./Example Data/SRSF11_nmd.csv\",\n",
    "                    \"./Example Data/SRSF11_prot.csv\",\n",
    "            ]\n",
    "\n",
    "# define our experimental parameters\n",
    "reps = 6\n",
    "group_names = [\"WT-\", \"WT+\", \"KO-\", \"KO+\"] \n",
    "\n",
    "# setting up the pipeline\n",
    "pipeline = BasicPlus()\n",
    "pipeline.save_to(\"./Example Results\")\n",
    "\n",
    "pipeline.replicates(reps)\n",
    "pipeline.names(group_names)\n",
    "\n",
    "# setup our preview\n",
    "preview = PreviewResults(mode = \"static\")\n",
    "pipeline.add_plotters(preview)\n",
    "\n",
    "# feed in our data\n",
    "pipeline.add_assays(sample_files)\n",
    "pipeline.add_normalisers(normaliser_files)\n",
    "\n",
    "# run the pipeline\n",
    "pipeline.run()\n",
    "\n",
    "# and at this point the results are already saved :-)"
   ]
  }
 ],
 "metadata": {
  "interpreter": {
   "hash": "652a90e61eb9c1f97ec337805654fe3aa8651960163f76bc5e0407c363634b53"
  },
  "kernelspec": {
   "display_name": "Python 3.8.12 64-bit ('base': conda)",
   "language": "python",
   "name": "python3"
  },
  "language_info": {
   "codemirror_mode": {
    "name": "ipython",
    "version": 3
   },
   "file_extension": ".py",
   "mimetype": "text/x-python",
   "name": "python",
   "nbconvert_exporter": "python",
   "pygments_lexer": "ipython3",
   "version": "3.8.12"
  },
  "orig_nbformat": 4
 },
 "nbformat": 4,
 "nbformat_minor": 2
}
