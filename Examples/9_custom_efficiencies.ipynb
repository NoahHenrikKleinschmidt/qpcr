{
 "cells": [
  {
   "cell_type": "markdown",
   "metadata": {},
   "source": [
    "# Calibrating assays\n",
    "\n",
    "This notebook gives an example how to use the `qpcr.Calibrator` to calibrate qPCR assays through either computing new primer efficiencies directly from the data, or, through using a set of externally computed efficiencies.\n",
    "\n",
    "#### Experimental background\n",
    "\n",
    "The datasets used for this tutorial are artificial datasets for demonstration purposes only. "
   ]
  },
  {
   "cell_type": "code",
   "execution_count": 1,
   "metadata": {},
   "outputs": [],
   "source": [
    "# import the qpcr module\n",
    "import qpcr\n",
    "import qpcr.Plotters as Plotters"
   ]
  },
  {
   "cell_type": "markdown",
   "metadata": {},
   "source": [
    "1 - Data for Calibration\n",
    "---\n",
    "\n",
    "The `qpcr.Calibrator` which handles computing qPCR primer efficiencies supports three (or, rather two) modes of operation. It can either compute new efficiencies through linear regression or assign externally computed efficiencies to `qpcr.Assay` objects. The _de novo_ computation supports two sub-methods, it may either use an entire assay's dataset for computation, or only a decorated subset thereof. This allows to either run a dilution series as a separate assay or as part of a bigger assay combining calibrator replicates and replicates-of-interested in one go. Here, we shall introduce all three methods. "
   ]
  },
  {
   "cell_type": "markdown",
   "metadata": {},
   "source": [
    "### 1.1 Using an all-calibrator assay\n",
    "If we ran a dilution series for an assay as a separate qPCR run, we would have a separate dataset for this. We read a regular or irregular datafile normally through the `qpcr.DataReader` to get our `qpcr.Assay` object. "
   ]
  },
  {
   "cell_type": "code",
   "execution_count": 2,
   "metadata": {},
   "outputs": [
    {
     "data": {
      "image/png": "[encoded data removed]",
      "text/plain": [
       "<Figure size 432x288 with 1 Axes>"
      ]
     },
     "metadata": {
      "needs_background": "light"
     },
     "output_type": "display_data"
    }
   ],
   "source": [
    "# a dataset containing only calibrator replicates from a dilution series\n",
    "file = \"./Example Data/Calibration/calibrators_only.csv\"\n",
    "\n",
    "# read the data\n",
    "calibrators_only = qpcr.read(file)\n",
    "\n",
    "# and inspect the assay (don't mind the show = False)\n",
    "fig = calibrators_only.boxplot(show=False)"
   ]
  },
  {
   "cell_type": "markdown",
   "metadata": {},
   "source": [
    "### 1.2 Using a full assay with both calibrator replicates and replicates-of-interest\n",
    "\n",
    "If we ran a dilution series and included these replicates in a single run with other replicates of interest, we can work with this the same way. However, we need to `decorate` the calibrator replicates so that the `qpcr.Calibrator` is able to distinguish between the calibration subset and the actual data-of-interest. The decoration scheme is as follows: `calibrator : some_name` which must be provided in the replicate identifier column. \n",
    "\n",
    "Optionally, a third part may be added as `calibrator : some_name : dilution` where the dilution is the inverted numeric dilutions step (e.g. `2` for a `1/2` dilution or `16` for a `1/16` and so on). \n",
    "Note that that the `full_assay.csv` file we load below actually specifies the calibrators in this full scheme. We will talk later about when this is useful or even necessary. "
   ]
  },
  {
   "cell_type": "code",
   "execution_count": 3,
   "metadata": {},
   "outputs": [
    {
     "data": {
      "image/png": "[encoded data removed]",
      "text/plain": [
       "<Figure size 432x288 with 1 Axes>"
      ]
     },
     "metadata": {},
     "output_type": "display_data"
    }
   ],
   "source": [
    "# a dataset containing both calibrator replicates from a dilution series \n",
    "# as well as replicates-of-interest from an experiment\n",
    "file = \"./Example Data/Calibration/full_assay.csv\"\n",
    "\n",
    "# read the full assay\n",
    "full_assay = qpcr.read(file)\n",
    "\n",
    "# and inspect as well \n",
    "fig = full_assay.boxplot(show=False)"
   ]
  },
  {
   "cell_type": "markdown",
   "metadata": {},
   "source": [
    "2 - Setting up the `Calibrator`\n",
    "----------------------------------------------------------------\n",
    "\n",
    "Now the most interesting part, working with the `qpcr.Calibrator`. \n",
    "We first need to set it up, just like any of the other `qpcr` classes. "
   ]
  },
  {
   "cell_type": "code",
   "execution_count": 4,
   "metadata": {},
   "outputs": [],
   "source": [
    "# set up the calibrator\n",
    "calibrator = qpcr.Calibrator()"
   ]
  },
  {
   "cell_type": "markdown",
   "metadata": {},
   "source": [
    "The `Calibrator` can accept `qpcr.Assay`s and either `calibrate` them – i.e. compute new efficiencies based on the given data –, or `assign` already existing efficiencies.\n",
    "Additionally, the `Calibrator` is equipped with a `pipe` method that will first attempt to assign existing efficiencies and if this was not possible attempt to compute a new efficiency from the data. \n",
    "\n",
    "> Note: <br> Any `calibrator` replicates are by default removed from the assay after calibration or assignment is done. This behavior can be supressed by using `remove_calibrators = False`. "
   ]
  },
  {
   "cell_type": "markdown",
   "metadata": {},
   "source": [
    "### 2.1 Newly calibrating a `qpcr.Assay`\n",
    "To newly compute an efficiency from given data, we can pass the Assay to the Calibrator using `calibrate` directly. In fact, both `calibrate` and `assign` both accept `qpcr.Assay` objects directly and the `Calibrator` does not have a `link` method. "
   ]
  },
  {
   "cell_type": "code",
   "execution_count": 5,
   "metadata": {},
   "outputs": [
    {
     "data": {
      "text/plain": [
       "1.087"
      ]
     },
     "execution_count": 5,
     "metadata": {},
     "output_type": "execute_result"
    }
   ],
   "source": [
    "# compute a new efficiency for our full assay\n",
    "calibrator.calibrate(full_assay)\n",
    "\n",
    "# now check the effiency\n",
    "full_assay.efficiency()"
   ]
  },
  {
   "cell_type": "markdown",
   "metadata": {},
   "source": [
    "Hence, an effiency of `1.087` was computed for the full assay. It is also noteworthy that now the dataframe of the assay is cropped to only non-calibrator replicates, so we can directly continue with our analysis using the assay."
   ]
  },
  {
   "cell_type": "code",
   "execution_count": 6,
   "metadata": {},
   "outputs": [
    {
     "data": {
      "text/html": [
       "<div>\n",
       "<style scoped>\n",
       "    .dataframe tbody tr th:only-of-type {\n",
       "        vertical-align: middle;\n",
       "    }\n",
       "\n",
       "    .dataframe tbody tr th {\n",
       "        vertical-align: top;\n",
       "    }\n",
       "\n",
       "    .dataframe thead th {\n",
       "        text-align: right;\n",
       "    }\n",
       "</style>\n",
       "<table border=\"1\" class=\"dataframe\">\n",
       "  <thead>\n",
       "    <tr style=\"text-align: right;\">\n",
       "      <th></th>\n",
       "      <th>id</th>\n",
       "      <th>Ct</th>\n",
       "      <th>group</th>\n",
       "      <th>group_name</th>\n",
       "    </tr>\n",
       "  </thead>\n",
       "  <tbody>\n",
       "    <tr>\n",
       "      <th>0</th>\n",
       "      <td>ctrl</td>\n",
       "      <td>16.74</td>\n",
       "      <td>0</td>\n",
       "      <td>ctrl</td>\n",
       "    </tr>\n",
       "    <tr>\n",
       "      <th>1</th>\n",
       "      <td>ctrl</td>\n",
       "      <td>16.91</td>\n",
       "      <td>0</td>\n",
       "      <td>ctrl</td>\n",
       "    </tr>\n",
       "    <tr>\n",
       "      <th>2</th>\n",
       "      <td>condA</td>\n",
       "      <td>14.36</td>\n",
       "      <td>1</td>\n",
       "      <td>condA</td>\n",
       "    </tr>\n",
       "    <tr>\n",
       "      <th>3</th>\n",
       "      <td>condA</td>\n",
       "      <td>14.29</td>\n",
       "      <td>1</td>\n",
       "      <td>condA</td>\n",
       "    </tr>\n",
       "    <tr>\n",
       "      <th>18</th>\n",
       "      <td>Diluent</td>\n",
       "      <td>40.00</td>\n",
       "      <td>9</td>\n",
       "      <td>Diluent</td>\n",
       "    </tr>\n",
       "  </tbody>\n",
       "</table>\n",
       "</div>"
      ],
      "text/plain": [
       "         id     Ct  group group_name\n",
       "0      ctrl  16.74      0       ctrl\n",
       "1      ctrl  16.91      0       ctrl\n",
       "2     condA  14.36      1      condA\n",
       "3     condA  14.29      1      condA\n",
       "18  Diluent  40.00      9    Diluent"
      ]
     },
     "execution_count": 6,
     "metadata": {},
     "output_type": "execute_result"
    }
   ],
   "source": [
    "full_assay.get()"
   ]
  },
  {
   "cell_type": "markdown",
   "metadata": {},
   "source": [
    "### 2.2 Manually specifying the `dilution`\n",
    "You may wonder why we used the full-assay instead of the calibrators-only. This is because the the `full_assay` had a fully decorated calibrator subset, so the `Calibrator` was able to infer everything needed to compute the efficiency. However, what if we have a set of calibrators that are not labelled according to the full scheme, like in the `calibrators_only`?"
   ]
  },
  {
   "cell_type": "code",
   "execution_count": 7,
   "metadata": {},
   "outputs": [
    {
     "data": {
      "text/html": [
       "<div>\n",
       "<style scoped>\n",
       "    .dataframe tbody tr th:only-of-type {\n",
       "        vertical-align: middle;\n",
       "    }\n",
       "\n",
       "    .dataframe tbody tr th {\n",
       "        vertical-align: top;\n",
       "    }\n",
       "\n",
       "    .dataframe thead th {\n",
       "        text-align: right;\n",
       "    }\n",
       "</style>\n",
       "<table border=\"1\" class=\"dataframe\">\n",
       "  <thead>\n",
       "    <tr style=\"text-align: right;\">\n",
       "      <th></th>\n",
       "      <th>id</th>\n",
       "      <th>Ct</th>\n",
       "      <th>group</th>\n",
       "      <th>group_name</th>\n",
       "    </tr>\n",
       "  </thead>\n",
       "  <tbody>\n",
       "    <tr>\n",
       "      <th>0</th>\n",
       "      <td>dilution 1/1</td>\n",
       "      <td>15.02</td>\n",
       "      <td>0</td>\n",
       "      <td>dilution 1/1</td>\n",
       "    </tr>\n",
       "    <tr>\n",
       "      <th>1</th>\n",
       "      <td>dilution 1/1</td>\n",
       "      <td>14.95</td>\n",
       "      <td>0</td>\n",
       "      <td>dilution 1/1</td>\n",
       "    </tr>\n",
       "    <tr>\n",
       "      <th>2</th>\n",
       "      <td>dilution 1/2</td>\n",
       "      <td>15.89</td>\n",
       "      <td>1</td>\n",
       "      <td>dilution 1/2</td>\n",
       "    </tr>\n",
       "    <tr>\n",
       "      <th>3</th>\n",
       "      <td>dilution 1/2</td>\n",
       "      <td>16.05</td>\n",
       "      <td>1</td>\n",
       "      <td>dilution 1/2</td>\n",
       "    </tr>\n",
       "    <tr>\n",
       "      <th>4</th>\n",
       "      <td>dilution 1/4</td>\n",
       "      <td>16.76</td>\n",
       "      <td>2</td>\n",
       "      <td>dilution 1/4</td>\n",
       "    </tr>\n",
       "    <tr>\n",
       "      <th>5</th>\n",
       "      <td>dilution 1/4</td>\n",
       "      <td>16.83</td>\n",
       "      <td>2</td>\n",
       "      <td>dilution 1/4</td>\n",
       "    </tr>\n",
       "    <tr>\n",
       "      <th>6</th>\n",
       "      <td>dilution 1/8</td>\n",
       "      <td>17.81</td>\n",
       "      <td>3</td>\n",
       "      <td>dilution 1/8</td>\n",
       "    </tr>\n",
       "    <tr>\n",
       "      <th>7</th>\n",
       "      <td>dilution 1/8</td>\n",
       "      <td>17.64</td>\n",
       "      <td>3</td>\n",
       "      <td>dilution 1/8</td>\n",
       "    </tr>\n",
       "    <tr>\n",
       "      <th>8</th>\n",
       "      <td>dilution 1/16</td>\n",
       "      <td>18.53</td>\n",
       "      <td>4</td>\n",
       "      <td>dilution 1/16</td>\n",
       "    </tr>\n",
       "    <tr>\n",
       "      <th>9</th>\n",
       "      <td>dilution 1/16</td>\n",
       "      <td>18.71</td>\n",
       "      <td>4</td>\n",
       "      <td>dilution 1/16</td>\n",
       "    </tr>\n",
       "    <tr>\n",
       "      <th>10</th>\n",
       "      <td>dilution 1/32</td>\n",
       "      <td>19.59</td>\n",
       "      <td>5</td>\n",
       "      <td>dilution 1/32</td>\n",
       "    </tr>\n",
       "    <tr>\n",
       "      <th>11</th>\n",
       "      <td>dilution 1/32</td>\n",
       "      <td>19.73</td>\n",
       "      <td>5</td>\n",
       "      <td>dilution 1/32</td>\n",
       "    </tr>\n",
       "    <tr>\n",
       "      <th>12</th>\n",
       "      <td>dilution 1/64</td>\n",
       "      <td>20.78</td>\n",
       "      <td>6</td>\n",
       "      <td>dilution 1/64</td>\n",
       "    </tr>\n",
       "    <tr>\n",
       "      <th>13</th>\n",
       "      <td>dilution 1/64</td>\n",
       "      <td>20.64</td>\n",
       "      <td>6</td>\n",
       "      <td>dilution 1/64</td>\n",
       "    </tr>\n",
       "  </tbody>\n",
       "</table>\n",
       "</div>"
      ],
      "text/plain": [
       "               id     Ct  group     group_name\n",
       "0    dilution 1/1  15.02      0   dilution 1/1\n",
       "1    dilution 1/1  14.95      0   dilution 1/1\n",
       "2    dilution 1/2  15.89      1   dilution 1/2\n",
       "3    dilution 1/2  16.05      1   dilution 1/2\n",
       "4    dilution 1/4  16.76      2   dilution 1/4\n",
       "5    dilution 1/4  16.83      2   dilution 1/4\n",
       "6    dilution 1/8  17.81      3   dilution 1/8\n",
       "7    dilution 1/8  17.64      3   dilution 1/8\n",
       "8   dilution 1/16  18.53      4  dilution 1/16\n",
       "9   dilution 1/16  18.71      4  dilution 1/16\n",
       "10  dilution 1/32  19.59      5  dilution 1/32\n",
       "11  dilution 1/32  19.73      5  dilution 1/32\n",
       "12  dilution 1/64  20.78      6  dilution 1/64\n",
       "13  dilution 1/64  20.64      6  dilution 1/64"
      ]
     },
     "execution_count": 7,
     "metadata": {},
     "output_type": "execute_result"
    }
   ],
   "source": [
    "calibrators_only.get()"
   ]
  },
  {
   "cell_type": "markdown",
   "metadata": {},
   "source": [
    "Well, this dataset is still perfectly good for calibration since it only contains calibrator replicates, even if they are not decorated at all. However, since they are not decorated the `Calibrator` has no way of knowing which replicates to use for calibration and which ones to leave alone. Hence, it will use **all** replicates for calibration! Additionally, even if we had decorated the replicates, the `1/1`...`1/64` will not be readable for the `Calibrator`. Hence, we must provide one additional piece of information: the `dilution`-step. The Calibrator offers the method `dilution` to set the dilution step in a number of formats. "
   ]
  },
  {
   "cell_type": "code",
   "execution_count": 8,
   "metadata": {},
   "outputs": [
    {
     "data": {
      "text/plain": [
       "1.087"
      ]
     },
     "execution_count": 8,
     "metadata": {},
     "output_type": "execute_result"
    }
   ],
   "source": [
    "# manually specify that the dilution\n",
    "# step is always 2 --> 1, 1/2, 1/4, ...\n",
    "calibrator.dilution(step = 2)\n",
    "\n",
    "# Note: We could also have specified 0.5 \n",
    "#       here to the same effect.\n",
    "\n",
    "# and now we can calibrate the calibrators_only as well \n",
    "calibrator.calibrate(calibrators_only)\n",
    "\n",
    "calibrators_only.efficiency()"
   ]
  },
  {
   "cell_type": "markdown",
   "metadata": {},
   "source": [
    "In fact, the `calibrators_only` assay will now not empty even though all replicates were used for calibration. This is because the `Calibrator` will only remove decorated replicates but leave any others untouched."
   ]
  },
  {
   "cell_type": "code",
   "execution_count": 9,
   "metadata": {},
   "outputs": [
    {
     "name": "stdout",
     "output_type": "stream",
     "text": [
      "----------------------------------------------\n",
      "Assay: calibrators_only\n",
      "Amplif. Eff.: 1.087\n",
      "----------------------------------------------\n",
      "               id     Ct  group     group_name\n",
      "0    dilution 1/1  15.02      0   dilution 1/1\n",
      "1    dilution 1/1  14.95      0   dilution 1/1\n",
      "2    dilution 1/2  15.89      1   dilution 1/2\n",
      "3    dilution 1/2  16.05      1   dilution 1/2\n",
      "4    dilution 1/4  16.76      2   dilution 1/4\n",
      "5    dilution 1/4  16.83      2   dilution 1/4\n",
      "6    dilution 1/8  17.81      3   dilution 1/8\n",
      "7    dilution 1/8  17.64      3   dilution 1/8\n",
      "8   dilution 1/16  18.53      4  dilution 1/16\n",
      "9   dilution 1/16  18.71      4  dilution 1/16\n",
      "10  dilution 1/32  19.59      5  dilution 1/32\n",
      "11  dilution 1/32  19.73      5  dilution 1/32\n",
      "12  dilution 1/64  20.78      6  dilution 1/64\n",
      "13  dilution 1/64  20.64      6  dilution 1/64\n",
      "----------------------------------------------\n"
     ]
    }
   ],
   "source": [
    "print(calibrators_only) "
   ]
  },
  {
   "cell_type": "markdown",
   "metadata": {},
   "source": [
    "If we now inspect the efficiencies stored by the Calibrator we see the two computed efficiencies for our assays, which are, of course, the same since the data was the same as well. "
   ]
  },
  {
   "cell_type": "code",
   "execution_count": 10,
   "metadata": {},
   "outputs": [
    {
     "data": {
      "text/plain": [
       "{'full_assay': 1.087, 'calibrators_only': 1.087}"
      ]
     },
     "execution_count": 10,
     "metadata": {},
     "output_type": "execute_result"
    }
   ],
   "source": [
    "calibrator.efficiencies"
   ]
  },
  {
   "cell_type": "markdown",
   "metadata": {},
   "source": [
    "### 2.3 Decorating calibrators\n",
    "\n",
    "If you wish to include your calibrators and other replicates in the same dataset you'll have to `decorate` them in order perform calibration. However, you need not necessarily follow the full scheme and also provide the dilution step. However, if you have gaps in your dilution series it may be more convenient to include the steps directly in the identifiers since you will otherwise have to enter an iterable manually to `dilution`.\n",
    "\n",
    "> Note: <br>\n",
    "> You do not necessarily need to specify anything between `calibrator:` decorator and the dilution step. Something like `calibrator :: 2` would also work totally fine."
   ]
  },
  {
   "cell_type": "markdown",
   "metadata": {},
   "source": [
    "3 - Working with pre-computed efficiencies\n",
    "----------------------------------------------------------------\n",
    "\n",
    "In order to include externally computed efficiencies, the `Calibrator` is able to read a two-column reference csv file, where the first column contains assay identifiers, and the second column contains the corresponding effciencies. The Calibrator can read these using the `load` method.\n",
    "\n",
    "> Note: <br> Any identically named efficiencies will be overwritten by newly loaded ones!\n",
    "\n",
    "<br>\n",
    "\n",
    "> Note:<br> The reference file must be `,`-separated (not `;`-separated)!"
   ]
  },
  {
   "cell_type": "markdown",
   "metadata": {},
   "source": [
    "### 3.1 Loading pre-computed efficiencies"
   ]
  },
  {
   "cell_type": "code",
   "execution_count": 11,
   "metadata": {},
   "outputs": [
    {
     "data": {
      "text/plain": [
       "{'full_assay': 1.087, 'calibrators_only': 1.087, 'test': 1.087}"
      ]
     },
     "execution_count": 11,
     "metadata": {},
     "output_type": "execute_result"
    }
   ],
   "source": [
    "# a reference file with efficiencies\n",
    "eff_file = \"./Example Data/Calibration/efficiencies.csv\"\n",
    "calibrator.load(eff_file)\n",
    "\n",
    "# and inspect the now loaded efficiencies\n",
    "# which include both computed ones and a \"test\" one \n",
    "# from the efficiencies.csv file\n",
    "calibrator.efficiencies"
   ]
  },
  {
   "cell_type": "markdown",
   "metadata": {},
   "source": [
    "### 3.2 Assigning pre-computed efficiencies\n",
    "If we have a `qpcr.Assay` for which we have already computed an efficiency we can `assign` that efficiency directly. We will read file the `no_calibrators.csv` to obtain a super-fresh dataset again, without any calibrators and then assign the previously computed efficiency to it."
   ]
  },
  {
   "cell_type": "code",
   "execution_count": 13,
   "metadata": {},
   "outputs": [
    {
     "data": {
      "text/plain": [
       "'test'"
      ]
     },
     "execution_count": 13,
     "metadata": {},
     "output_type": "execute_result"
    }
   ],
   "source": [
    "# a datafile with only replicates-of-interest\n",
    "# and no replicates\n",
    "file = \"./Example Data/Calibration/no_calibrators.csv\"\n",
    "no_calibrators = qpcr.read(file)\n",
    "\n",
    "# now since the calibrator can only assign based on the \n",
    "# assay Id, we need to set it to any of the assay's that have\n",
    "# an efficiency loaded in the Calibrator. We'll use \"test\" here:\n",
    "no_calibrators.id(\"test\")"
   ]
  },
  {
   "cell_type": "code",
   "execution_count": 14,
   "metadata": {},
   "outputs": [
    {
     "name": "stdout",
     "output_type": "stream",
     "text": [
      "Pre-calibration:   1.0\n",
      "Post-calibration:  1.087\n"
     ]
    }
   ],
   "source": [
    "# inspect the efficiency\n",
    "e1 = no_calibrators.efficiency()\n",
    "print(\"Pre-calibration:  \", e1)\n",
    "\n",
    "# now assign the pre-computed efficiency from the calibrator\n",
    "calibrator.assign(no_calibrators)\n",
    "\n",
    "# and inspect again\n",
    "e2 = no_calibrators.efficiency()\n",
    "print(\"Post-calibration: \", e2)"
   ]
  },
  {
   "cell_type": "markdown",
   "metadata": {},
   "source": [
    "### 3.3 Saving computed efficiencies\n",
    "If we have computed efficiencies we will want to save them for later so we can re-use them time and time again. The Calibrator has a `save` method for this purpose. "
   ]
  },
  {
   "cell_type": "code",
   "execution_count": null,
   "metadata": {},
   "outputs": [],
   "source": [
    "# save the computed efficiencies. \n",
    "calibrator.save()\n",
    "\n",
    "# Note: Since we already loaded a \n",
    "#       a reference file, the same\n",
    "#       file is set to the default\n",
    "#       output-file. But any filepath\n",
    "#       can be specified here."
   ]
  },
  {
   "cell_type": "markdown",
   "metadata": {},
   "source": [
    "## 4 - Visualising Calibrations\n",
    "----------------------------------------------------------------\n",
    "\n",
    "The Calibrator comes with a dedicated Plotter to visualise the regression lines. This is the `EfficiencyLines` Plotter.\n",
    "To visualise the regression lines, simply `link` a `qpcr.Calibrator` to the `EfficiencyLines` plotter and call the `plot` method thereafter."
   ]
  },
  {
   "cell_type": "code",
   "execution_count": null,
   "metadata": {},
   "outputs": [
    {
     "data": {
      "image/png": "[encoded data removed]",
      "text/plain": [
       "<Figure size 432x288 with 2 Axes>"
      ]
     },
     "metadata": {},
     "output_type": "display_data"
    }
   ],
   "source": [
    "# set up the plotter\n",
    "eff_plotter = Plotters.EfficiencyLines()\n",
    "\n",
    "# link the calibrator\n",
    "eff_plotter.link( calibrator )\n",
    "\n",
    "# and visualise\n",
    "fig = eff_plotter.plot()"
   ]
  },
  {
   "cell_type": "markdown",
   "metadata": {},
   "source": [
    "The same can also be achieved via the `plot` method in the `Calibrator` directly, which essentially performs the above."
   ]
  },
  {
   "cell_type": "code",
   "execution_count": null,
   "metadata": {},
   "outputs": [
    {
     "data": {
      "image/png": "[encoded data removed]",
      "text/plain": [
       "<Figure size 432x288 with 2 Axes>"
      ]
     },
     "metadata": {},
     "output_type": "display_data"
    }
   ],
   "source": [
    "fig = calibrator.plot() "
   ]
  },
  {
   "cell_type": "markdown",
   "metadata": {},
   "source": [
    "Notice how only `full_assay` and `calibrators_only` appear in the Figure but `test` ( `no_calibrators`) does not. This is since the Calibrator did not actually compute anything there but only assigned an existing efficiency. Hence, no regression line, and thus nothing to plot here. "
   ]
  },
  {
   "cell_type": "markdown",
   "metadata": {},
   "source": [
    "Alright, with this we have reached the end of this tutorial on the `qpcr.Calibrator`, congrats! Now you are able to compute qPCR primer efficiencies using `qpcr` or include efficiencies you already computed elsewhere with your data."
   ]
  }
 ],
 "metadata": {
  "kernelspec": {
   "display_name": "Python 3.8.12 ('base')",
   "language": "python",
   "name": "python3"
  },
  "language_info": {
   "codemirror_mode": {
    "name": "ipython",
    "version": 3
   },
   "file_extension": ".py",
   "mimetype": "text/x-python",
   "name": "python",
   "nbconvert_exporter": "python",
   "pygments_lexer": "ipython3",
   "version": "3.8.12"
  },
  "orig_nbformat": 4,
  "vscode": {
   "interpreter": {
    "hash": "2734b62963039aeeb60b771e82b61c77981815502f674c850ca7bca72bab0171"
   }
  }
 },
 "nbformat": 4,
 "nbformat_minor": 2
}
