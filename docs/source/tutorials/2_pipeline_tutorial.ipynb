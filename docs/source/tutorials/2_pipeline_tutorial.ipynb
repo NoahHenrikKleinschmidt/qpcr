{
 "cells": [
  {
   "cell_type": "markdown",
   "metadata": {},
   "source": [
    "# Data analysis using a pipeline\n",
    "\n",
    "This notebook gives an example of analysing data using the pre-implemented `BasicPlus` analysis pipeline of the `qpcr.Pipes` sub-module.\n",
    "It makes use of the provided example data in the `Example Data` directory. \n",
    "\n",
    "\n",
    "#### Experimental background\n",
    "\n",
    "The corresponding experimental setup was as follows: \n",
    "Levels of Nonsense-mediated mRNA decay (NMD) sensitive (nmd) and insensitive (prot) transcript isoforms of HNRNPL and SRSF11 were measured by qPCR. As normalisers both 28S rRNA and Actin transcript levels were measured. The replicates are biological triplicates and technical douplicates. All measurements from the same qPCR sample were merged into hexaplicates (6 replicates). This was done in two separate HeLa cell lines (one with a specific gene knockout (KO), and one without (WT)), which were both treated to a plasmid-mediated rescue (+) or not (-), leading to four experimental conditions:\n",
    "\n",
    "| cell line \\\\ condition | rescue | no rescue |\n",
    "| ---------------------- | ------ | --------- |\n",
    "| knockout               | KO+    | KO-       |\n",
    "| wildtype               | WT+    | WT-       |\n",
    "\n",
    "\n",
    "\n",
    "#### Simple Analysis\n",
    "In this example we will perform the same basic Delta-Delta Ct analysis, we did in the manual tutorial from `1_manual_tutorial.ipynb`. However, this time weill be using the pre-implemented `BasicPlus` pipeline of the `qpcr.Pipes` sub-module to make our life easier."
   ]
  },
  {
   "cell_type": "code",
   "execution_count": 10,
   "metadata": {},
   "outputs": [],
   "source": [
    "# import what we need\n",
    "from qpcr.Pipes import BasicPlus\n",
    "from qpcr.Plotters import PreviewResults"
   ]
  },
  {
   "cell_type": "markdown",
   "metadata": {},
   "source": [
    "Step 1 - Setting up the Pipeline\n",
    "---"
   ]
  },
  {
   "cell_type": "markdown",
   "metadata": {},
   "source": [
    "### 1.1 Setting up the `BasicPlus` pipeline\n",
    "Conveniently, we do not have to define our own `qpcr.SampleReader` and `qpcr.Analyser` etc. anymore as the pipeline will handle this already. When using the pipelines our only concern is linking the data and specifying the experimental setup. \n",
    "Additionally, we can link `qpcr.Plotters` objects such as the `PreviewResults` figure class to inspect our results later on.  "
   ]
  },
  {
   "cell_type": "code",
   "execution_count": 11,
   "metadata": {},
   "outputs": [],
   "source": [
    "# setup the pipeline\n",
    "pipeline = BasicPlus()\n",
    "\n",
    "# (yes, that's it already...)"
   ]
  },
  {
   "cell_type": "markdown",
   "metadata": {},
   "source": [
    "If we wanted to save the results to a specific location (which we normally would like to do) we can set a specific location to save to using the `save_to` method."
   ]
  },
  {
   "cell_type": "code",
   "execution_count": 12,
   "metadata": {},
   "outputs": [],
   "source": [
    "pipeline.save_to(\"./Example Results\")"
   ]
  },
  {
   "cell_type": "markdown",
   "metadata": {},
   "source": [
    "### 1.2 Setting up the data\n",
    "The pipeline is designed to work either with a list of `filepaths` or with `directory` paths that contain the datafiles (if normalisers and sample assays are stored separately). Since we already generated filepath lists in the previous tutorial we will simply re-use these here."
   ]
  },
  {
   "cell_type": "code",
   "execution_count": 13,
   "metadata": {},
   "outputs": [],
   "source": [
    "# get our datafiles\n",
    "normaliser_files = [\n",
    "                        \"./Example Data/28S.csv\",\n",
    "                        \"./Example Data/actin.csv\"\n",
    "                ]\n",
    "\n",
    "sample_files = [\n",
    "                    \"./Example Data/HNRNPL_nmd.csv\",\n",
    "                    \"./Example Data/HNRNPL_prot.csv\",\n",
    "                    \"./Example Data/SRSF11_nmd.csv\",\n",
    "                    \"./Example Data/SRSF11_prot.csv\",\n",
    "            ]\n",
    "\n",
    "# define our experimental parameters\n",
    "reps = 6\n",
    "group_names = [\"WT-\", \"WT+\", \"KO-\", \"KO+\"] "
   ]
  },
  {
   "cell_type": "markdown",
   "metadata": {},
   "source": [
    "### 1.3 Setting up the Preview for later\n",
    "Since we want to generate a preview of our results, we can just get the `qpcr.Results` object and use its dedicated `preview` method to get our preview. Alternatively, we could manually setup one (or multiple different) `qpcr.Plotter` objects and link them directly to the pipeline. The pipeline will then make a figure with each of them automatically for us. \n",
    "\n",
    "Here set up a `qpcr.Plotters.PreviewResults` instance (which is what the `qpcr.Results.preview` method does as well) that we can link to the pipeline."
   ]
  },
  {
   "cell_type": "code",
   "execution_count": 14,
   "metadata": {},
   "outputs": [],
   "source": [
    "# setup our preview\n",
    "preview = PreviewResults()\n",
    "\n",
    "# and link our preview to the pipeline\n",
    "pipeline.add_plotters(preview)"
   ]
  },
  {
   "cell_type": "markdown",
   "metadata": {},
   "source": [
    "Step 2 - Feed our data to the pipeline\n",
    "---\n",
    "\n",
    "Next we feed our pipeline with our experimental data."
   ]
  },
  {
   "cell_type": "code",
   "execution_count": 15,
   "metadata": {},
   "outputs": [],
   "source": [
    "# first we add the experimental setup \n",
    "pipeline.replicates(reps)\n",
    "pipeline.names(group_names)\n",
    "\n",
    "# now we add the datafiles\n",
    "pipeline.add_assays(sample_files)\n",
    "pipeline.add_normalisers(normaliser_files)"
   ]
  },
  {
   "cell_type": "markdown",
   "metadata": {},
   "source": [
    "Step 3 - Running everything\n",
    "-----\n",
    "\n",
    "### 3.1 Hitting the `run()` button 🕹\n",
    "Now that we are all set up, we are ready to go. The only thing to do now is to run the pipeline by calling the `run()` method."
   ]
  },
  {
   "cell_type": "code",
   "execution_count": 16,
   "metadata": {},
   "outputs": [
    {
     "data": {
      "image/png": "[encoded data removed]",
      "text/plain": [
       "<Figure size 432x288 with 4 Axes>"
      ]
     },
     "metadata": {},
     "output_type": "display_data"
    }
   ],
   "source": [
    "# run the pipeline\n",
    "pipeline.run()"
   ]
  },
  {
   "cell_type": "markdown",
   "metadata": {},
   "source": [
    "Step 4 - Inspecting the results\n",
    "---\n",
    "\n",
    "### 4.1 Getting our results\n",
    "In order to get our results we can, again, use the `get()` method. For pipelines the `get()` method can return either `pandas DataFrames` with the individual replicate values or summary statistics, or the underlying `qpcr.Results` object. Check out the documentation for more details."
   ]
  },
  {
   "cell_type": "code",
   "execution_count": 17,
   "metadata": {},
   "outputs": [
    {
     "data": {
      "text/html": [
       "<div>\n",
       "<style scoped>\n",
       "    .dataframe tbody tr th:only-of-type {\n",
       "        vertical-align: middle;\n",
       "    }\n",
       "\n",
       "    .dataframe tbody tr th {\n",
       "        vertical-align: top;\n",
       "    }\n",
       "\n",
       "    .dataframe thead th {\n",
       "        text-align: right;\n",
       "    }\n",
       "</style>\n",
       "<table border=\"1\" class=\"dataframe\">\n",
       "  <thead>\n",
       "    <tr style=\"text-align: right;\">\n",
       "      <th></th>\n",
       "      <th>group</th>\n",
       "      <th>group_name</th>\n",
       "      <th>assay</th>\n",
       "      <th>n</th>\n",
       "      <th>mean</th>\n",
       "      <th>stdev</th>\n",
       "      <th>median</th>\n",
       "      <th>IQR_(0.25, 0.75)</th>\n",
       "      <th>CI_0.95</th>\n",
       "    </tr>\n",
       "  </thead>\n",
       "  <tbody>\n",
       "    <tr>\n",
       "      <th>0</th>\n",
       "      <td>0</td>\n",
       "      <td>WT-</td>\n",
       "      <td>HNRNPL_nmd_rel_28S+actin</td>\n",
       "      <td>6</td>\n",
       "      <td>1.050056</td>\n",
       "      <td>0.029452</td>\n",
       "      <td>1.050267</td>\n",
       "      <td>0.038511</td>\n",
       "      <td>[1.0161980755868047, 1.0839147340669306]</td>\n",
       "    </tr>\n",
       "    <tr>\n",
       "      <th>4</th>\n",
       "      <td>1</td>\n",
       "      <td>WT+</td>\n",
       "      <td>HNRNPL_nmd_rel_28S+actin</td>\n",
       "      <td>6</td>\n",
       "      <td>6.052860</td>\n",
       "      <td>0.890336</td>\n",
       "      <td>6.366251</td>\n",
       "      <td>1.516539</td>\n",
       "      <td>[5.029330209330722, 7.076390063511062]</td>\n",
       "    </tr>\n",
       "    <tr>\n",
       "      <th>8</th>\n",
       "      <td>2</td>\n",
       "      <td>KO-</td>\n",
       "      <td>HNRNPL_nmd_rel_28S+actin</td>\n",
       "      <td>6</td>\n",
       "      <td>9.566500</td>\n",
       "      <td>0.513593</td>\n",
       "      <td>9.614924</td>\n",
       "      <td>0.734027</td>\n",
       "      <td>[8.976073861884581, 10.156926829088912]</td>\n",
       "    </tr>\n",
       "    <tr>\n",
       "      <th>12</th>\n",
       "      <td>3</td>\n",
       "      <td>KO+</td>\n",
       "      <td>HNRNPL_nmd_rel_28S+actin</td>\n",
       "      <td>6</td>\n",
       "      <td>16.940332</td>\n",
       "      <td>1.126687</td>\n",
       "      <td>16.964906</td>\n",
       "      <td>1.096016</td>\n",
       "      <td>[15.645093462670095, 18.235569627233723]</td>\n",
       "    </tr>\n",
       "    <tr>\n",
       "      <th>1</th>\n",
       "      <td>0</td>\n",
       "      <td>WT-</td>\n",
       "      <td>HNRNPL_prot_rel_28S+actin</td>\n",
       "      <td>6</td>\n",
       "      <td>1.025239</td>\n",
       "      <td>0.040091</td>\n",
       "      <td>1.006244</td>\n",
       "      <td>0.028966</td>\n",
       "      <td>[0.9791503057437683, 1.0713284193830188]</td>\n",
       "    </tr>\n",
       "    <tr>\n",
       "      <th>5</th>\n",
       "      <td>1</td>\n",
       "      <td>WT+</td>\n",
       "      <td>HNRNPL_prot_rel_28S+actin</td>\n",
       "      <td>6</td>\n",
       "      <td>0.913758</td>\n",
       "      <td>0.050860</td>\n",
       "      <td>0.917271</td>\n",
       "      <td>0.042987</td>\n",
       "      <td>[0.8552897342904139, 0.9722270525874591]</td>\n",
       "    </tr>\n",
       "    <tr>\n",
       "      <th>9</th>\n",
       "      <td>2</td>\n",
       "      <td>KO-</td>\n",
       "      <td>HNRNPL_prot_rel_28S+actin</td>\n",
       "      <td>6</td>\n",
       "      <td>0.856658</td>\n",
       "      <td>0.029906</td>\n",
       "      <td>0.862768</td>\n",
       "      <td>0.028070</td>\n",
       "      <td>[0.8222776478939225, 0.891038325780611]</td>\n",
       "    </tr>\n",
       "    <tr>\n",
       "      <th>13</th>\n",
       "      <td>3</td>\n",
       "      <td>KO+</td>\n",
       "      <td>HNRNPL_prot_rel_28S+actin</td>\n",
       "      <td>6</td>\n",
       "      <td>0.925665</td>\n",
       "      <td>0.057855</td>\n",
       "      <td>0.931949</td>\n",
       "      <td>0.073664</td>\n",
       "      <td>[0.859154910656904, 0.9921743211393722]</td>\n",
       "    </tr>\n",
       "    <tr>\n",
       "      <th>2</th>\n",
       "      <td>0</td>\n",
       "      <td>WT-</td>\n",
       "      <td>SRSF11_nmd_rel_28S+actin</td>\n",
       "      <td>6</td>\n",
       "      <td>0.885403</td>\n",
       "      <td>0.102865</td>\n",
       "      <td>0.857620</td>\n",
       "      <td>0.172183</td>\n",
       "      <td>[0.7671489539924317, 1.0036564706179987]</td>\n",
       "    </tr>\n",
       "    <tr>\n",
       "      <th>6</th>\n",
       "      <td>1</td>\n",
       "      <td>WT+</td>\n",
       "      <td>SRSF11_nmd_rel_28S+actin</td>\n",
       "      <td>6</td>\n",
       "      <td>3.374373</td>\n",
       "      <td>0.638138</td>\n",
       "      <td>3.644576</td>\n",
       "      <td>0.813222</td>\n",
       "      <td>[2.6407697994029142, 4.107976488500923]</td>\n",
       "    </tr>\n",
       "    <tr>\n",
       "      <th>10</th>\n",
       "      <td>2</td>\n",
       "      <td>KO-</td>\n",
       "      <td>SRSF11_nmd_rel_28S+actin</td>\n",
       "      <td>6</td>\n",
       "      <td>5.286670</td>\n",
       "      <td>0.347279</td>\n",
       "      <td>5.284115</td>\n",
       "      <td>0.661335</td>\n",
       "      <td>[4.8874376127697445, 5.685901849372261]</td>\n",
       "    </tr>\n",
       "    <tr>\n",
       "      <th>14</th>\n",
       "      <td>3</td>\n",
       "      <td>KO+</td>\n",
       "      <td>SRSF11_nmd_rel_28S+actin</td>\n",
       "      <td>6</td>\n",
       "      <td>7.604066</td>\n",
       "      <td>0.580553</td>\n",
       "      <td>7.770230</td>\n",
       "      <td>0.771464</td>\n",
       "      <td>[6.936662966465831, 8.271469831244389]</td>\n",
       "    </tr>\n",
       "    <tr>\n",
       "      <th>3</th>\n",
       "      <td>0</td>\n",
       "      <td>WT-</td>\n",
       "      <td>SRSF11_prot_rel_28S+actin</td>\n",
       "      <td>6</td>\n",
       "      <td>1.009713</td>\n",
       "      <td>0.031999</td>\n",
       "      <td>0.997147</td>\n",
       "      <td>0.053565</td>\n",
       "      <td>[0.9729276202797885, 1.0464986201225999]</td>\n",
       "    </tr>\n",
       "    <tr>\n",
       "      <th>7</th>\n",
       "      <td>1</td>\n",
       "      <td>WT+</td>\n",
       "      <td>SRSF11_prot_rel_28S+actin</td>\n",
       "      <td>6</td>\n",
       "      <td>1.197983</td>\n",
       "      <td>0.076915</td>\n",
       "      <td>1.190168</td>\n",
       "      <td>0.126247</td>\n",
       "      <td>[1.1095617597701253, 1.2864044289031957]</td>\n",
       "    </tr>\n",
       "    <tr>\n",
       "      <th>11</th>\n",
       "      <td>2</td>\n",
       "      <td>KO-</td>\n",
       "      <td>SRSF11_prot_rel_28S+actin</td>\n",
       "      <td>6</td>\n",
       "      <td>0.887404</td>\n",
       "      <td>0.060800</td>\n",
       "      <td>0.894811</td>\n",
       "      <td>0.102612</td>\n",
       "      <td>[0.8175079293860618, 0.9572992427668053]</td>\n",
       "    </tr>\n",
       "    <tr>\n",
       "      <th>15</th>\n",
       "      <td>3</td>\n",
       "      <td>KO+</td>\n",
       "      <td>SRSF11_prot_rel_28S+actin</td>\n",
       "      <td>6</td>\n",
       "      <td>1.136573</td>\n",
       "      <td>0.139244</td>\n",
       "      <td>1.096490</td>\n",
       "      <td>0.174390</td>\n",
       "      <td>[0.9764976866134043, 1.2966473268737058]</td>\n",
       "    </tr>\n",
       "  </tbody>\n",
       "</table>\n",
       "</div>"
      ],
      "text/plain": [
       "    group group_name                      assay  n       mean     stdev  \\\n",
       "0       0        WT-   HNRNPL_nmd_rel_28S+actin  6   1.050056  0.029452   \n",
       "4       1        WT+   HNRNPL_nmd_rel_28S+actin  6   6.052860  0.890336   \n",
       "8       2        KO-   HNRNPL_nmd_rel_28S+actin  6   9.566500  0.513593   \n",
       "12      3        KO+   HNRNPL_nmd_rel_28S+actin  6  16.940332  1.126687   \n",
       "1       0        WT-  HNRNPL_prot_rel_28S+actin  6   1.025239  0.040091   \n",
       "5       1        WT+  HNRNPL_prot_rel_28S+actin  6   0.913758  0.050860   \n",
       "9       2        KO-  HNRNPL_prot_rel_28S+actin  6   0.856658  0.029906   \n",
       "13      3        KO+  HNRNPL_prot_rel_28S+actin  6   0.925665  0.057855   \n",
       "2       0        WT-   SRSF11_nmd_rel_28S+actin  6   0.885403  0.102865   \n",
       "6       1        WT+   SRSF11_nmd_rel_28S+actin  6   3.374373  0.638138   \n",
       "10      2        KO-   SRSF11_nmd_rel_28S+actin  6   5.286670  0.347279   \n",
       "14      3        KO+   SRSF11_nmd_rel_28S+actin  6   7.604066  0.580553   \n",
       "3       0        WT-  SRSF11_prot_rel_28S+actin  6   1.009713  0.031999   \n",
       "7       1        WT+  SRSF11_prot_rel_28S+actin  6   1.197983  0.076915   \n",
       "11      2        KO-  SRSF11_prot_rel_28S+actin  6   0.887404  0.060800   \n",
       "15      3        KO+  SRSF11_prot_rel_28S+actin  6   1.136573  0.139244   \n",
       "\n",
       "       median  IQR_(0.25, 0.75)                                   CI_0.95  \n",
       "0    1.050267          0.038511  [1.0161980755868047, 1.0839147340669306]  \n",
       "4    6.366251          1.516539    [5.029330209330722, 7.076390063511062]  \n",
       "8    9.614924          0.734027   [8.976073861884581, 10.156926829088912]  \n",
       "12  16.964906          1.096016  [15.645093462670095, 18.235569627233723]  \n",
       "1    1.006244          0.028966  [0.9791503057437683, 1.0713284193830188]  \n",
       "5    0.917271          0.042987  [0.8552897342904139, 0.9722270525874591]  \n",
       "9    0.862768          0.028070   [0.8222776478939225, 0.891038325780611]  \n",
       "13   0.931949          0.073664   [0.859154910656904, 0.9921743211393722]  \n",
       "2    0.857620          0.172183  [0.7671489539924317, 1.0036564706179987]  \n",
       "6    3.644576          0.813222   [2.6407697994029142, 4.107976488500923]  \n",
       "10   5.284115          0.661335   [4.8874376127697445, 5.685901849372261]  \n",
       "14   7.770230          0.771464    [6.936662966465831, 8.271469831244389]  \n",
       "3    0.997147          0.053565  [0.9729276202797885, 1.0464986201225999]  \n",
       "7    1.190168          0.126247  [1.1095617597701253, 1.2864044289031957]  \n",
       "11   0.894811          0.102612  [0.8175079293860618, 0.9572992427668053]  \n",
       "15   1.096490          0.174390  [0.9764976866134043, 1.2966473268737058]  "
      ]
     },
     "execution_count": 17,
     "metadata": {},
     "output_type": "execute_result"
    }
   ],
   "source": [
    "# get our results as summary statistics (that's the default return format)\n",
    "summary_stats = pipeline.get()\n",
    "\n",
    "# and inspect\n",
    "summary_stats"
   ]
  },
  {
   "cell_type": "markdown",
   "metadata": {},
   "source": [
    "At this point we have reached the end of this tutorial. You are now able to use the `BasicPlus` pipeline to analyse your data. The `Basic` pipeline works just the same, except that it does not support the linking of a Plotters."
   ]
  },
  {
   "cell_type": "code",
   "execution_count": 18,
   "metadata": {},
   "outputs": [
    {
     "data": {
      "image/png": "[encoded data removed]",
      "text/plain": [
       "<Figure size 432x288 with 4 Axes>"
      ]
     },
     "metadata": {},
     "output_type": "display_data"
    }
   ],
   "source": [
    "\"\"\"\n",
    "Here is just again our entire workflow with all the code we just wrote:\n",
    "\"\"\"\n",
    "# get our datafiles\n",
    "normaliser_files = [\n",
    "                        \"./Example Data/28S.csv\",\n",
    "                        \"./Example Data/actin.csv\"\n",
    "                ]\n",
    "\n",
    "sample_files = [\n",
    "                    \"./Example Data/HNRNPL_nmd.csv\",\n",
    "                    \"./Example Data/HNRNPL_prot.csv\",\n",
    "                    \"./Example Data/SRSF11_nmd.csv\",\n",
    "                    \"./Example Data/SRSF11_prot.csv\",\n",
    "            ]\n",
    "\n",
    "# define our experimental parameters\n",
    "reps = 6\n",
    "group_names = [\"WT-\", \"WT+\", \"KO-\", \"KO+\"] \n",
    "\n",
    "# setting up the pipeline\n",
    "pipeline = BasicPlus()\n",
    "pipeline.save_to(\"./Example Results\")\n",
    "\n",
    "pipeline.replicates(reps)\n",
    "pipeline.names(group_names)\n",
    "\n",
    "# setup our preview\n",
    "preview = PreviewResults(mode = \"static\")\n",
    "pipeline.add_plotters(preview)\n",
    "\n",
    "# feed in our data\n",
    "pipeline.add_assays(sample_files)\n",
    "pipeline.add_normalisers(normaliser_files)\n",
    "\n",
    "# run the pipeline\n",
    "pipeline.run()\n",
    "# and at this point the results are already saved :-)"
   ]
  }
 ],
 "metadata": {
  "kernelspec": {
   "display_name": "Python 3.8.12 ('base')",
   "language": "python",
   "name": "python3"
  },
  "language_info": {
   "codemirror_mode": {
    "name": "ipython",
    "version": 3
   },
   "file_extension": ".py",
   "mimetype": "text/x-python",
   "name": "python",
   "nbconvert_exporter": "python",
   "pygments_lexer": "ipython3",
   "version": "3.8.12"
  },
  "orig_nbformat": 4,
  "vscode": {
   "interpreter": {
    "hash": "2734b62963039aeeb60b771e82b61c77981815502f674c850ca7bca72bab0171"
   }
  }
 },
 "nbformat": 4,
 "nbformat_minor": 2
}
