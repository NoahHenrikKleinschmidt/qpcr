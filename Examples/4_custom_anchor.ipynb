{
 "cells": [
  {
   "cell_type": "markdown",
   "metadata": {},
   "source": [
    "# Setting a custom anchor\n",
    "\n",
    "This notebook gives an example how to add a custom anchor to your analysis using the main `qpcr` module.\n",
    "It makes use of the provided example data in the `Example Data` directory. \n",
    "\n",
    "\n",
    "#### Experimental background\n",
    "\n",
    "The corresponding experimental setup was as follows: \n",
<<<<<<< HEAD
    "Levels of Nonsense-mediated mRNA decay (NMD) sensitive (nmd) and insensitive (prot) transcript isoforms of HNRNPL and SRSF11 were measured by qPCR. As normalisers both 28S rRNA and Actin transcript levels were measured. Measurements were done in hexaplicates (6 replicates). This was done in two separate HeLa cell lines (one with a specific gene knockout (KO), and one without (WT)), which were both treated to a plasmid-mediated rescue (+) or not (-), leading to four experimental conditions:\n",
=======
    "Levels of Nonsense-mediated mRNA decay (NMD) sensitive (nmd) and insensitive (prot) transcript isoforms of HNRNPL and SRSF11 were measured by qPCR. As normalisers both 28S rRNA and Actin transcript levels were measured. The replicates are biological triplicates and technical douplicates. All measurements from the same qPCR sample were merged into hexaplicates (6 replicates). This was done in two separate HeLa cell lines (one with a specific gene knockout (KO), and one without (WT)), which were both treated to a plasmid-mediated rescue (+) or not (-), leading to four experimental conditions:\n",
    "\n",
>>>>>>> clean_release_V3
    "\n",
    "| cell line \\\\ condition | rescue | no rescue |\n",
    "| ---------------------- | ------ | --------- |\n",
    "| knockout               | KO+    | KO-       |\n",
    "| wildtype               | WT+    | WT-       |\n",
    "\n",
    "\n",
    "\n",
    "#### First Analysis\n",
    "The first Delta-Ct makes use of a dataset internal reference value (in our case the measured Ct from untreated wildtype (WT-)). Commonly the average of the reference Ct replicate values is used. The `qpcr` module opted to just use the very first entry of the dataset by default (assuming, of course, that the first group of replicates represents the reference group). However, what if you really want to use the average of the reference group to be the anchor? Well, in this case you can specify an anchor externally and add it directly to the `qpcr.Analyser`. We will see how to do this in this tutorial."
   ]
  },
  {
   "cell_type": "code",
<<<<<<< HEAD
   "execution_count": 43,
=======
   "execution_count": 20,
>>>>>>> clean_release_V3
   "metadata": {},
   "outputs": [],
   "source": [
    "# import the qpcr module\n",
    "import qpcr\n",
<<<<<<< HEAD
    "import qpcr.Plotters as qplots"
=======
    "from qpcr.Plotters import PreviewResults"
>>>>>>> clean_release_V3
   ]
  },
  {
   "cell_type": "markdown",
   "metadata": {},
   "source": [
    "## Step 1 - Getting the data\n",
    "---\n",
    "First  we get the datafiles (or rather their filepaths). Here, we do this manually. Of course, any more automated process that yields a list of filepaths is also suitable."
   ]
  },
  {
   "cell_type": "code",
<<<<<<< HEAD
   "execution_count": 44,
   "metadata": {},
   "outputs": [],
   "source": [
    "# we set up the paths to 28S+actin as our normalisers\n",
    "normaliser_files = [\n",
    "    \"../Example Data/28S.csv\",\n",
    "    \"../Example Data/actin.csv\"\n",
    "]\n",
    "\n",
    "# we also set up the paths to the HNRNPL and SRSF11 transcripts\n",
    "sample_files = [\n",
    "    \"../Example Data/HNRNPL_nmd.csv\",\n",
    "    \"../Example Data/HNRNPL_prot.csv\",\n",
    "    \"../Example Data/SRSF11_nmd.csv\",\n",
    "    \"../Example Data/SRSF11_prot.csv\",\n",
    "]\n",
    "\n",
    "# a list for 28S and actin\n",
    "normalisers = []\n",
    "# a list for the HNRNPL and SRSF11 transcript isoforms\n",
    "samples = []"
=======
   "execution_count": 21,
   "metadata": {},
   "outputs": [],
   "source": [
    "# get our datafiles\n",
    "normaliser_files = [\n",
    "                        \"./Example Data/28S.csv\",\n",
    "                        \"./Example Data/actin.csv\"\n",
    "                ]\n",
    "\n",
    "sample_files = [\n",
    "                    \"./Example Data/HNRNPL_nmd.csv\",\n",
    "                    \"./Example Data/HNRNPL_prot.csv\",\n",
    "                    \"./Example Data/SRSF11_nmd.csv\",\n",
    "                    \"./Example Data/SRSF11_prot.csv\",\n",
    "            ]\n",
    "\n",
    "assays = []\n",
    "normalisers = []\n",
    "\n",
    "# define our experimental parameters\n",
    "reps = 6\n",
    "group_names = [\"WT-\", \"WT+\", \"KO-\", \"KO+\"] "
>>>>>>> clean_release_V3
   ]
  },
  {
   "cell_type": "markdown",
   "metadata": {},
   "source": [
    "## Step 2 - Setting up the Pipeline\n",
    "---"
   ]
  },
  {
   "cell_type": "markdown",
   "metadata": {},
   "source": [
    "### 2.1 Setting up the Pipeline\n",
    "We are already familiar how to manually set up an analysis pipeline. If you are still unfamiliar with these steps, please check out the first tutorial in the `1_manual_tutorial.ipynb` notebook."
   ]
  },
  {
   "cell_type": "code",
<<<<<<< HEAD
   "execution_count": 45,
=======
   "execution_count": 22,
>>>>>>> clean_release_V3
   "metadata": {},
   "outputs": [],
   "source": [
    "# setup the reader\n",
<<<<<<< HEAD
    "reader = qpcr.SampleReader()\n",
=======
    "reader = qpcr.DataReader()\n",
>>>>>>> clean_release_V3
    "\n",
    "# now we define the setup parameters\n",
    "# define the number of replicates for each group (group = condition)\n",
    "reps = 6\n",
<<<<<<< HEAD
    "reader.replicates(reps)\n",
=======
    "\n",
>>>>>>> clean_release_V3
    "\n",
    "# define the names of the groups of replicates = names of conditions\n",
    "# NOTE: The order has to match the order wihtin the raw datafile!\n",
    "group_names = [\"WT-\", \"WT+\", \"KO-\", \"KO+\"] \n",
<<<<<<< HEAD
    "reader.names(group_names)\n",
=======
>>>>>>> clean_release_V3
    "\n",
    "# setup analyser\n",
    "analyser = qpcr.Analyser()\n",
    "\n",
    "# setup normaliser\n",
    "normaliser = qpcr.Normaliser()"
   ]
  },
  {
   "cell_type": "markdown",
   "metadata": {},
   "source": [
    "### 2.2 Setting up the external anchor\n",
<<<<<<< HEAD
    "Now comes the interesting part. We can specify a custom anchor by computing the anchor externally and then pass the computed numeric value directly to the analyser. To make this more convenient, we will write a little function that will get the first replicate group, and average the Ct values."
=======
    "Now comes the interesting part. We can specify a custom anchor by computing the anchor externally and then pass the computed numeric value directly to the analyser. \n",
    "\n",
    "To make this more convenient, we will write a little function that will get the first replicate group, and average the Ct values.\n",
    "\n",
    "However, if we already have defined a function then we can also directly add that function to the `qpcr.Analyser`. The `qpcr.Analyser` offers the argument `data` which allows the custom anchor function to access a `qpcr.Assay`'s dataframe. \n",
    "\n",
    "It is really up to you if you would rather call the custom anchor function directly and only pass the numeric value as new anchor to the `qpcr.Analyser` or if you would prefer linking the function directly. If your custom anchor function requires additional arguments than just `data`, it may be saver to call it directly instead of linking it. \n",
    "\n",
    "> Note\n",
    ">\n",
    "> When writing a custom anchor function, please, make sure it can handle `**kwargs` because it will recieve any kwargs that may have been passed during `DeltaCt()` calling!"
>>>>>>> clean_release_V3
   ]
  },
  {
   "cell_type": "code",
<<<<<<< HEAD
   "execution_count": 46,
   "metadata": {},
   "outputs": [],
   "source": [
    "def first_average(assay : qpcr.Assay):\n",
    "    \"\"\"\n",
    "    This function gets the first group (group 0), which is the reference group, \n",
    "    and returns their average Ct value. It works with a qpcr.Assay object\n",
    "    \"\"\"\n",
    "    df = assay.get() # get the stored dataframe from the Assay\n",
    "    ref = df.query(\"group == 0\")[\"Ct\"]\n",
=======
   "execution_count": 31,
   "metadata": {},
   "outputs": [],
   "source": [
    "def first_average(data, **kwargs):\n",
    "    \"\"\"\n",
    "    This function gets the first group (group 0), which is the reference group, \n",
    "    and returns their average Ct value. \n",
    "    \n",
    "    It is also able to handle any **kwargs that could potentially be passed\n",
    "    alongside data, just to make sure it does not raise an error in such cases.\n",
    "\n",
    "    It works with a the pandas dataframe of a qpcr.Assay\n",
    "    object provided by the qpcr.Analyser...\n",
    "    \"\"\"\n",
    "    ref = data.query(\"group == 0\")[\"Ct\"]\n",
>>>>>>> clean_release_V3
    "    avg = ref.mean()\n",
    "    return avg"
   ]
  },
  {
   "cell_type": "markdown",
   "metadata": {},
   "source": [
<<<<<<< HEAD
    "## Step 3 - Running everything\n",
    "---\n",
    "### 3.1 Adding our custom anchor to the pipeline\n",
    "Now we take the workflow from the first tutorial, and all we have to do is add our custom anchor function in front of the `analyser.pipe()` step."
=======
    "Now we can add this function as the `anchor` of our `qpcr.Analyser` like: "
   ]
  },
  {
   "cell_type": "code",
   "execution_count": 32,
   "metadata": {},
   "outputs": [
    {
     "data": {
      "text/plain": [
       "(<function __main__.first_average(data)>, 0)"
      ]
     },
     "execution_count": 32,
     "metadata": {},
     "output_type": "execute_result"
    }
   ],
   "source": [
    "analyser.anchor(first_average)"
   ]
  },
  {
   "cell_type": "markdown",
   "metadata": {},
   "source": [
    "## Step 3 - Running everything\n",
    "---\n",
    "Now we take the workflow from the first tutorial."
>>>>>>> clean_release_V3
   ]
  },
  {
   "cell_type": "code",
<<<<<<< HEAD
   "execution_count": 47,
=======
   "execution_count": 25,
>>>>>>> clean_release_V3
   "metadata": {},
   "outputs": [],
   "source": [
    "# we first iterate over the normalisers 28S and actin\n",
    "for norm in normaliser_files:\n",
<<<<<<< HEAD
    "    norm = reader.read(norm)\n",
    "    \n",
    "    # compute custom anchor\n",
    "    custom_anchor = first_average(norm)\n",
    "    # pass custom anchor to analyser\n",
    "    analyser.anchor(custom_anchor)\n",
=======
    "    norm = reader.read(norm, replicates = reps, names = group_names)\n",
>>>>>>> clean_release_V3
    "    \n",
    "    norm = analyser.pipe(norm)\n",
    "    normalisers.append(norm)\n",
    "\n",
    "# and we do the same for our sample assays of HNRPL and SRSF11\n",
<<<<<<< HEAD
    "for sample in sample_files:\n",
    "    sample = reader.read(sample)\n",
    "\n",
    "    custom_anchor = first_average(sample)\n",
    "    analyser.anchor(custom_anchor)\n",
    "\n",
    "    sample = analyser.pipe(sample)\n",
    "    samples.append(sample)"
=======
    "for assay in sample_files:\n",
    "    assay = reader.read(assay, replicates = reps, names = group_names)\n",
    "\n",
    "    assay = analyser.pipe(assay)\n",
    "    assays.append(assay)"
   ]
  },
  {
   "cell_type": "markdown",
   "metadata": {},
   "source": [
    "> Note\n",
    "> \n",
    "> We could also have done the following: \n",
    ">\n",
    ">```python\n",
    ">    for norm in normaliser_files:\n",
    ">        norm = reader.read(norm, replicates = reps, names = group_names)\n",
    ">        \n",
    ">        # externally compute custom anchor\n",
    ">        df = norm.get()\n",
    ">        custom_anchor = first_average(df)\n",
    ">        analyser.anchor(custom_anchor)\n",
    ">        \n",
    ">        norm = analyser.pipe(norm)\n",
    ">        normalisers.append(norm)\n",
    ">```"
>>>>>>> clean_release_V3
   ]
  },
  {
   "cell_type": "markdown",
   "metadata": {},
   "source": [
    "### 3.2 Finishing up\n",
    "At this point we simply need to run the second step in Delta-Delta-Ct, the normalisation against our normaliser assays Actin and 28S. And inspect the results afterward."
   ]
  },
  {
   "cell_type": "code",
<<<<<<< HEAD
   "execution_count": 48,
   "metadata": {},
   "outputs": [
    {
     "name": "stderr",
     "output_type": "stream",
     "text": [
      "/Users/NoahHK/opt/anaconda3/lib/python3.8/site-packages/qpcr/__init__.py:1260: FutureWarning: Dropping of nuisance columns in DataFrame reductions (with 'numeric_only=None') is deprecated; in a future version this will raise TypeError.  Select only valid columns before calling the reduction.\n",
      "  tmp_df = tmp_df.mean(axis = 1)\n"
     ]
    },
    {
=======
   "execution_count": 26,
   "metadata": {},
   "outputs": [
    {
>>>>>>> clean_release_V3
     "data": {
      "text/html": [
       "<div>\n",
       "<style scoped>\n",
       "    .dataframe tbody tr th:only-of-type {\n",
       "        vertical-align: middle;\n",
       "    }\n",
       "\n",
       "    .dataframe tbody tr th {\n",
       "        vertical-align: top;\n",
       "    }\n",
       "\n",
       "    .dataframe thead th {\n",
       "        text-align: right;\n",
       "    }\n",
       "</style>\n",
       "<table border=\"1\" class=\"dataframe\">\n",
       "  <thead>\n",
       "    <tr style=\"text-align: right;\">\n",
       "      <th></th>\n",
       "      <th>group</th>\n",
       "      <th>assay</th>\n",
       "      <th>mean</th>\n",
       "      <th>stdev</th>\n",
       "      <th>median</th>\n",
       "      <th>group_name</th>\n",
       "    </tr>\n",
       "  </thead>\n",
       "  <tbody>\n",
       "    <tr>\n",
       "      <th>0</th>\n",
       "      <td>0</td>\n",
       "      <td>HNRNPL_nmd_rel_28S+actin</td>\n",
       "      <td>0.996925</td>\n",
       "      <td>0.031751</td>\n",
       "      <td>1.001800</td>\n",
       "      <td>WT-</td>\n",
       "    </tr>\n",
       "    <tr>\n",
       "      <th>4</th>\n",
       "      <td>1</td>\n",
       "      <td>HNRNPL_nmd_rel_28S+actin</td>\n",
       "      <td>5.650216</td>\n",
       "      <td>0.835556</td>\n",
       "      <td>5.926360</td>\n",
       "      <td>WT+</td>\n",
       "    </tr>\n",
       "    <tr>\n",
       "      <th>8</th>\n",
       "      <td>2</td>\n",
       "      <td>HNRNPL_nmd_rel_28S+actin</td>\n",
       "      <td>9.148520</td>\n",
       "      <td>0.473316</td>\n",
       "      <td>9.180616</td>\n",
       "      <td>KO-</td>\n",
       "    </tr>\n",
       "    <tr>\n",
       "      <th>12</th>\n",
       "      <td>3</td>\n",
       "      <td>HNRNPL_nmd_rel_28S+actin</td>\n",
       "      <td>16.185170</td>\n",
       "      <td>1.188382</td>\n",
       "      <td>16.143396</td>\n",
       "      <td>KO+</td>\n",
       "    </tr>\n",
       "    <tr>\n",
       "      <th>1</th>\n",
       "      <td>0</td>\n",
       "      <td>HNRNPL_prot_rel_28S+actin</td>\n",
       "      <td>0.997374</td>\n",
       "      <td>0.044757</td>\n",
       "      <td>0.983061</td>\n",
       "      <td>WT-</td>\n",
       "    </tr>\n",
       "    <tr>\n",
       "      <th>5</th>\n",
       "      <td>1</td>\n",
       "      <td>HNRNPL_prot_rel_28S+actin</td>\n",
       "      <td>0.873953</td>\n",
       "      <td>0.050710</td>\n",
       "      <td>0.876917</td>\n",
       "      <td>WT+</td>\n",
       "    </tr>\n",
       "    <tr>\n",
       "      <th>9</th>\n",
       "      <td>2</td>\n",
       "      <td>HNRNPL_prot_rel_28S+actin</td>\n",
       "      <td>0.839504</td>\n",
       "      <td>0.031261</td>\n",
       "      <td>0.845369</td>\n",
       "      <td>KO-</td>\n",
       "    </tr>\n",
       "    <tr>\n",
       "      <th>13</th>\n",
       "      <td>3</td>\n",
       "      <td>HNRNPL_prot_rel_28S+actin</td>\n",
       "      <td>0.906150</td>\n",
       "      <td>0.063912</td>\n",
       "      <td>0.910838</td>\n",
       "      <td>KO+</td>\n",
       "    </tr>\n",
       "    <tr>\n",
       "      <th>2</th>\n",
       "      <td>0</td>\n",
       "      <td>SRSF11_nmd_rel_28S+actin</td>\n",
       "      <td>1.002857</td>\n",
       "      <td>0.114905</td>\n",
       "      <td>0.979897</td>\n",
       "      <td>WT-</td>\n",
       "    </tr>\n",
       "    <tr>\n",
       "      <th>6</th>\n",
       "      <td>1</td>\n",
       "      <td>SRSF11_nmd_rel_28S+actin</td>\n",
       "      <td>3.758608</td>\n",
       "      <td>0.711593</td>\n",
       "      <td>4.048361</td>\n",
       "      <td>WT+</td>\n",
       "    </tr>\n",
       "    <tr>\n",
       "      <th>10</th>\n",
       "      <td>2</td>\n",
       "      <td>SRSF11_nmd_rel_28S+actin</td>\n",
       "      <td>6.033142</td>\n",
       "      <td>0.387374</td>\n",
       "      <td>6.020250</td>\n",
       "      <td>KO-</td>\n",
       "    </tr>\n",
       "    <tr>\n",
       "      <th>14</th>\n",
       "      <td>3</td>\n",
       "      <td>SRSF11_nmd_rel_28S+actin</td>\n",
       "      <td>8.669936</td>\n",
       "      <td>0.717356</td>\n",
       "      <td>8.811357</td>\n",
       "      <td>KO+</td>\n",
       "    </tr>\n",
       "    <tr>\n",
       "      <th>3</th>\n",
       "      <td>0</td>\n",
       "      <td>SRSF11_prot_rel_28S+actin</td>\n",
       "      <td>0.996964</td>\n",
       "      <td>0.033470</td>\n",
       "      <td>0.981614</td>\n",
       "      <td>WT-</td>\n",
       "    </tr>\n",
       "    <tr>\n",
       "      <th>7</th>\n",
       "      <td>1</td>\n",
       "      <td>SRSF11_prot_rel_28S+actin</td>\n",
       "      <td>1.163020</td>\n",
       "      <td>0.075426</td>\n",
       "      <td>1.152191</td>\n",
       "      <td>WT+</td>\n",
       "    </tr>\n",
       "    <tr>\n",
       "      <th>11</th>\n",
       "      <td>2</td>\n",
       "      <td>SRSF11_prot_rel_28S+actin</td>\n",
       "      <td>0.882658</td>\n",
       "      <td>0.059725</td>\n",
       "      <td>0.887903</td>\n",
       "      <td>KO-</td>\n",
       "    </tr>\n",
       "    <tr>\n",
       "      <th>15</th>\n",
       "      <td>3</td>\n",
       "      <td>SRSF11_prot_rel_28S+actin</td>\n",
       "      <td>1.129910</td>\n",
       "      <td>0.147201</td>\n",
       "      <td>1.083565</td>\n",
       "      <td>KO+</td>\n",
       "    </tr>\n",
       "  </tbody>\n",
       "</table>\n",
       "</div>"
      ],
      "text/plain": [
       "    group                      assay       mean     stdev     median  \\\n",
       "0       0   HNRNPL_nmd_rel_28S+actin   0.996925  0.031751   1.001800   \n",
       "4       1   HNRNPL_nmd_rel_28S+actin   5.650216  0.835556   5.926360   \n",
       "8       2   HNRNPL_nmd_rel_28S+actin   9.148520  0.473316   9.180616   \n",
       "12      3   HNRNPL_nmd_rel_28S+actin  16.185170  1.188382  16.143396   \n",
       "1       0  HNRNPL_prot_rel_28S+actin   0.997374  0.044757   0.983061   \n",
       "5       1  HNRNPL_prot_rel_28S+actin   0.873953  0.050710   0.876917   \n",
       "9       2  HNRNPL_prot_rel_28S+actin   0.839504  0.031261   0.845369   \n",
       "13      3  HNRNPL_prot_rel_28S+actin   0.906150  0.063912   0.910838   \n",
       "2       0   SRSF11_nmd_rel_28S+actin   1.002857  0.114905   0.979897   \n",
       "6       1   SRSF11_nmd_rel_28S+actin   3.758608  0.711593   4.048361   \n",
       "10      2   SRSF11_nmd_rel_28S+actin   6.033142  0.387374   6.020250   \n",
       "14      3   SRSF11_nmd_rel_28S+actin   8.669936  0.717356   8.811357   \n",
       "3       0  SRSF11_prot_rel_28S+actin   0.996964  0.033470   0.981614   \n",
       "7       1  SRSF11_prot_rel_28S+actin   1.163020  0.075426   1.152191   \n",
       "11      2  SRSF11_prot_rel_28S+actin   0.882658  0.059725   0.887903   \n",
       "15      3  SRSF11_prot_rel_28S+actin   1.129910  0.147201   1.083565   \n",
       "\n",
       "   group_name  \n",
       "0         WT-  \n",
       "4         WT+  \n",
       "8         KO-  \n",
       "12        KO+  \n",
       "1         WT-  \n",
       "5         WT+  \n",
       "9         KO-  \n",
       "13        KO+  \n",
       "2         WT-  \n",
       "6         WT+  \n",
       "10        KO-  \n",
       "14        KO+  \n",
       "3         WT-  \n",
       "7         WT+  \n",
       "11        KO-  \n",
       "15        KO+  "
      ]
     },
<<<<<<< HEAD
     "execution_count": 48,
=======
     "execution_count": 26,
>>>>>>> clean_release_V3
     "metadata": {},
     "output_type": "execute_result"
    }
   ],
   "source": [
    "# add the assays to the normaliser \n",
<<<<<<< HEAD
    "normaliser.link(samples = samples, normalisers = normalisers)\n",
=======
    "normaliser.link(assays = assays, normalisers = normalisers)\n",
>>>>>>> clean_release_V3
    "\n",
    "# and run the normalisation\n",
    "normaliser.normalise()\n",
    "\n",
    "results = normaliser.get().stats()\n",
    "results"
   ]
  },
  {
   "cell_type": "markdown",
   "metadata": {},
   "source": [
    "## Default `\"first\"` vs. custom `\"mean\"` anchor\n",
    "----------------------------------------------------------------\n",
    "\n",
    "You may be wondering how the results differ between the default settings and the ones using our custom mean-anchor. Let's compare the results. We will compute results using default settings through the predefined `Basic` pipeline. "
   ]
  },
  {
   "cell_type": "code",
<<<<<<< HEAD
   "execution_count": 49,
   "metadata": {},
   "outputs": [
    {
     "name": "stderr",
     "output_type": "stream",
     "text": [
      "/Users/NoahHK/opt/anaconda3/lib/python3.8/site-packages/qpcr/__init__.py:1260: FutureWarning: Dropping of nuisance columns in DataFrame reductions (with 'numeric_only=None') is deprecated; in a future version this will raise TypeError.  Select only valid columns before calling the reduction.\n",
      "  tmp_df = tmp_df.mean(axis = 1)\n"
     ]
    },
    {
=======
   "execution_count": 27,
   "metadata": {},
   "outputs": [
    {
>>>>>>> clean_release_V3
     "data": {
      "text/html": [
       "<div>\n",
       "<style scoped>\n",
       "    .dataframe tbody tr th:only-of-type {\n",
       "        vertical-align: middle;\n",
       "    }\n",
       "\n",
       "    .dataframe tbody tr th {\n",
       "        vertical-align: top;\n",
       "    }\n",
       "\n",
       "    .dataframe thead th {\n",
       "        text-align: right;\n",
       "    }\n",
       "</style>\n",
       "<table border=\"1\" class=\"dataframe\">\n",
       "  <thead>\n",
       "    <tr style=\"text-align: right;\">\n",
       "      <th></th>\n",
       "      <th>group</th>\n",
       "      <th>assay</th>\n",
       "      <th>mean</th>\n",
       "      <th>stdev</th>\n",
       "      <th>median</th>\n",
       "      <th>group_name</th>\n",
       "    </tr>\n",
       "  </thead>\n",
       "  <tbody>\n",
       "    <tr>\n",
       "      <th>0</th>\n",
       "      <td>0</td>\n",
       "      <td>HNRNPL_nmd_rel_28S+actin</td>\n",
       "      <td>1.050056</td>\n",
       "      <td>0.029452</td>\n",
       "      <td>1.050267</td>\n",
       "      <td>WT-</td>\n",
       "    </tr>\n",
       "    <tr>\n",
       "      <th>4</th>\n",
       "      <td>1</td>\n",
       "      <td>HNRNPL_nmd_rel_28S+actin</td>\n",
       "      <td>6.052860</td>\n",
       "      <td>0.890336</td>\n",
       "      <td>6.366251</td>\n",
       "      <td>WT+</td>\n",
       "    </tr>\n",
       "    <tr>\n",
       "      <th>8</th>\n",
       "      <td>2</td>\n",
       "      <td>HNRNPL_nmd_rel_28S+actin</td>\n",
       "      <td>9.566500</td>\n",
       "      <td>0.513593</td>\n",
       "      <td>9.614924</td>\n",
       "      <td>KO-</td>\n",
       "    </tr>\n",
       "    <tr>\n",
       "      <th>12</th>\n",
       "      <td>3</td>\n",
       "      <td>HNRNPL_nmd_rel_28S+actin</td>\n",
       "      <td>16.940332</td>\n",
       "      <td>1.126687</td>\n",
       "      <td>16.964906</td>\n",
       "      <td>KO+</td>\n",
       "    </tr>\n",
       "    <tr>\n",
       "      <th>1</th>\n",
       "      <td>0</td>\n",
       "      <td>HNRNPL_prot_rel_28S+actin</td>\n",
       "      <td>1.025239</td>\n",
       "      <td>0.040091</td>\n",
       "      <td>1.006244</td>\n",
       "      <td>WT-</td>\n",
       "    </tr>\n",
       "    <tr>\n",
       "      <th>5</th>\n",
       "      <td>1</td>\n",
       "      <td>HNRNPL_prot_rel_28S+actin</td>\n",
       "      <td>0.913758</td>\n",
       "      <td>0.050860</td>\n",
       "      <td>0.917271</td>\n",
       "      <td>WT+</td>\n",
       "    </tr>\n",
       "    <tr>\n",
       "      <th>9</th>\n",
       "      <td>2</td>\n",
       "      <td>HNRNPL_prot_rel_28S+actin</td>\n",
       "      <td>0.856658</td>\n",
       "      <td>0.029906</td>\n",
       "      <td>0.862768</td>\n",
       "      <td>KO-</td>\n",
       "    </tr>\n",
       "    <tr>\n",
       "      <th>13</th>\n",
       "      <td>3</td>\n",
       "      <td>HNRNPL_prot_rel_28S+actin</td>\n",
       "      <td>0.925665</td>\n",
       "      <td>0.057855</td>\n",
       "      <td>0.931949</td>\n",
       "      <td>KO+</td>\n",
       "    </tr>\n",
       "    <tr>\n",
       "      <th>2</th>\n",
       "      <td>0</td>\n",
       "      <td>SRSF11_nmd_rel_28S+actin</td>\n",
       "      <td>0.885403</td>\n",
       "      <td>0.102865</td>\n",
       "      <td>0.857620</td>\n",
       "      <td>WT-</td>\n",
       "    </tr>\n",
       "    <tr>\n",
       "      <th>6</th>\n",
       "      <td>1</td>\n",
       "      <td>SRSF11_nmd_rel_28S+actin</td>\n",
       "      <td>3.374373</td>\n",
       "      <td>0.638138</td>\n",
       "      <td>3.644576</td>\n",
       "      <td>WT+</td>\n",
       "    </tr>\n",
       "    <tr>\n",
       "      <th>10</th>\n",
       "      <td>2</td>\n",
       "      <td>SRSF11_nmd_rel_28S+actin</td>\n",
       "      <td>5.286670</td>\n",
       "      <td>0.347279</td>\n",
       "      <td>5.284115</td>\n",
       "      <td>KO-</td>\n",
       "    </tr>\n",
       "    <tr>\n",
       "      <th>14</th>\n",
       "      <td>3</td>\n",
       "      <td>SRSF11_nmd_rel_28S+actin</td>\n",
       "      <td>7.604066</td>\n",
       "      <td>0.580553</td>\n",
       "      <td>7.770230</td>\n",
       "      <td>KO+</td>\n",
       "    </tr>\n",
       "    <tr>\n",
       "      <th>3</th>\n",
       "      <td>0</td>\n",
       "      <td>SRSF11_prot_rel_28S+actin</td>\n",
       "      <td>1.009713</td>\n",
       "      <td>0.031999</td>\n",
       "      <td>0.997147</td>\n",
       "      <td>WT-</td>\n",
       "    </tr>\n",
       "    <tr>\n",
       "      <th>7</th>\n",
       "      <td>1</td>\n",
       "      <td>SRSF11_prot_rel_28S+actin</td>\n",
       "      <td>1.197983</td>\n",
       "      <td>0.076915</td>\n",
       "      <td>1.190168</td>\n",
       "      <td>WT+</td>\n",
       "    </tr>\n",
       "    <tr>\n",
       "      <th>11</th>\n",
       "      <td>2</td>\n",
       "      <td>SRSF11_prot_rel_28S+actin</td>\n",
       "      <td>0.887404</td>\n",
       "      <td>0.060800</td>\n",
       "      <td>0.894811</td>\n",
       "      <td>KO-</td>\n",
       "    </tr>\n",
       "    <tr>\n",
       "      <th>15</th>\n",
       "      <td>3</td>\n",
       "      <td>SRSF11_prot_rel_28S+actin</td>\n",
       "      <td>1.136573</td>\n",
       "      <td>0.139244</td>\n",
       "      <td>1.096490</td>\n",
       "      <td>KO+</td>\n",
       "    </tr>\n",
       "  </tbody>\n",
       "</table>\n",
       "</div>"
      ],
      "text/plain": [
       "    group                      assay       mean     stdev     median  \\\n",
       "0       0   HNRNPL_nmd_rel_28S+actin   1.050056  0.029452   1.050267   \n",
       "4       1   HNRNPL_nmd_rel_28S+actin   6.052860  0.890336   6.366251   \n",
       "8       2   HNRNPL_nmd_rel_28S+actin   9.566500  0.513593   9.614924   \n",
       "12      3   HNRNPL_nmd_rel_28S+actin  16.940332  1.126687  16.964906   \n",
       "1       0  HNRNPL_prot_rel_28S+actin   1.025239  0.040091   1.006244   \n",
       "5       1  HNRNPL_prot_rel_28S+actin   0.913758  0.050860   0.917271   \n",
       "9       2  HNRNPL_prot_rel_28S+actin   0.856658  0.029906   0.862768   \n",
       "13      3  HNRNPL_prot_rel_28S+actin   0.925665  0.057855   0.931949   \n",
       "2       0   SRSF11_nmd_rel_28S+actin   0.885403  0.102865   0.857620   \n",
       "6       1   SRSF11_nmd_rel_28S+actin   3.374373  0.638138   3.644576   \n",
       "10      2   SRSF11_nmd_rel_28S+actin   5.286670  0.347279   5.284115   \n",
       "14      3   SRSF11_nmd_rel_28S+actin   7.604066  0.580553   7.770230   \n",
       "3       0  SRSF11_prot_rel_28S+actin   1.009713  0.031999   0.997147   \n",
       "7       1  SRSF11_prot_rel_28S+actin   1.197983  0.076915   1.190168   \n",
       "11      2  SRSF11_prot_rel_28S+actin   0.887404  0.060800   0.894811   \n",
       "15      3  SRSF11_prot_rel_28S+actin   1.136573  0.139244   1.096490   \n",
       "\n",
       "   group_name  \n",
       "0         WT-  \n",
       "4         WT+  \n",
       "8         KO-  \n",
       "12        KO+  \n",
       "1         WT-  \n",
       "5         WT+  \n",
       "9         KO-  \n",
       "13        KO+  \n",
       "2         WT-  \n",
       "6         WT+  \n",
       "10        KO-  \n",
       "14        KO+  \n",
       "3         WT-  \n",
       "7         WT+  \n",
       "11        KO-  \n",
       "15        KO+  "
      ]
     },
<<<<<<< HEAD
     "execution_count": 49,
=======
     "execution_count": 27,
>>>>>>> clean_release_V3
     "metadata": {},
     "output_type": "execute_result"
    }
   ],
   "source": [
    "# get default results using the Basic pipeline\n",
    "from qpcr.Pipes import Basic\n",
    "\n",
    "basic = Basic()\n",
    "basic.replicates(reps)\n",
    "basic.names(group_names)\n",
    "basic.add_assays(sample_files)\n",
    "basic.add_normalisers(normaliser_files)\n",
    "basic.run()\n",
    "results_pipe = basic.get()\n",
    "\n",
    "results_pipe"
   ]
  },
  {
   "cell_type": "markdown",
   "metadata": {},
   "source": [
    "Next we visualise the results as barplots and check the fold-change between our custom results and the default results."
   ]
  },
  {
   "cell_type": "code",
<<<<<<< HEAD
   "execution_count": 108,
=======
   "execution_count": 29,
>>>>>>> clean_release_V3
   "metadata": {},
   "outputs": [
    {
     "data": {
<<<<<<< HEAD
      "image/png": "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",
=======
      "image/png": "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",
>>>>>>> clean_release_V3
      "text/plain": [
       "<Figure size 576x576 with 3 Axes>"
      ]
     },
     "metadata": {},
     "output_type": "display_data"
    }
   ],
   "source": [
    "# visualise our results (we can ignore the code here, just the figure is of interest...)\n",
    "import matplotlib.pyplot as plt\n",
    "import seaborn as sns \n",
    "\n",
    "fig, axs = plt.subplots(3, figsize = (8,8))\n",
    "\n",
    "sns.barplot(\n",
    "            data = results, \n",
    "            x = \"assay\", \n",
    "            y = \"mean\", \n",
    "            hue = \"group_name\", \n",
<<<<<<< HEAD
=======
    "            palette = \"Blues\",\n",
>>>>>>> clean_release_V3
    "            ax = axs[0]\n",
    "        )\n",
    "\n",
    "sns.barplot(\n",
    "            data = results_pipe, \n",
    "            x = \"assay\", \n",
    "            y = \"mean\", \n",
    "            hue = \"group_name\", \n",
<<<<<<< HEAD
=======
    "            palette = \"Blues\",\n",
>>>>>>> clean_release_V3
    "            ax = axs[1]\n",
    "        )\n",
    "\n",
    "diff_means = results[\"mean\"] / results_pipe[\"mean\"]\n",
    "\n",
    "sns.barplot(\n",
    "    data = results,\n",
    "    x = \"assay\",\n",
    "    y = diff_means,\n",
    "    hue = \"group_name\",\n",
<<<<<<< HEAD
=======
    "    palette = \"Blues\",\n",
>>>>>>> clean_release_V3
    "    ax = axs[2]\n",
    ")\n",
    "\n",
    "for ax in axs: \n",
    "    plt.setp( ax.xaxis.get_majorticklabels(), rotation=-20, ha=\"left\", rotation_mode=\"anchor\") \n",
    "    ax.legend().remove()\n",
    "    ax.set(xlabel=\"\", xticks = [])\n",
    "axs[0].legend()\n",
    "axs[2].set(xlabel = \"assay\", xticks = [0,1,2,3])\n",
    "\n",
    "axs[0].set(title = \"Custom \\\"mean\\\" anchor\")\n",
    "axs[1].set(title = \"Default \\\"first\\\" anchor\")\n",
    "axs[2].set(title = \"Ratio of custom over default results\")\n",
    "sns.set_style(\"ticks\")\n",
    "sns.despine()\n",
    "plt.tight_layout()"
   ]
  },
  {
   "cell_type": "markdown",
   "metadata": {},
   "source": [
    "In our example dataset, computing an external anchor did not seem to impact our overall results markedly. Well, that's a relief :-) \n",
    "\n",
    "So, does that mean we should simply rely on default settings? Not necessarily. If your data is spread over a larger range of Ct values for each group (you can check the distribution of your data using the `qpcr.Filter` classes, see the third tutorial `3_filter_tutorial.ipynb`), you may not want to rely on a just the first one of your datapoints to be your anchor (after all it could just barely have passed the filter). In such cases you may rather want to rely on a mean or median of your entire reference group."
   ]
  },
  {
   "cell_type": "markdown",
   "metadata": {},
   "source": [
<<<<<<< HEAD
    "In fact, this approach works not only for the `anchor` but with other attributes of the `qpcr` processing classes as well. So, today you learned how to link your own computations to `qpcr`'s workflow, which will enable you to produce even more streamlined computations to your needs."
=======
    "A little note at the end: You may have already realised that our little example is actually already a pre-implemented `anchor` of the `qpcr.Analyser` called the `\"mean\"` anchor. So we can achieve the exact same result by simply calling `analyser.anchor(\"mean\")` without having to specify our own function for it. "
>>>>>>> clean_release_V3
   ]
  }
 ],
 "metadata": {
  "interpreter": {
   "hash": "652a90e61eb9c1f97ec337805654fe3aa8651960163f76bc5e0407c363634b53"
  },
  "kernelspec": {
   "display_name": "Python 3.8.12 64-bit ('base': conda)",
   "language": "python",
   "name": "python3"
  },
  "language_info": {
   "codemirror_mode": {
    "name": "ipython",
    "version": 3
   },
   "file_extension": ".py",
   "mimetype": "text/x-python",
   "name": "python",
   "nbconvert_exporter": "python",
   "pygments_lexer": "ipython3",
   "version": "3.8.12"
  },
  "orig_nbformat": 4
 },
 "nbformat": 4,
 "nbformat_minor": 2
}
