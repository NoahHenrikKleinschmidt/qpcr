{
 "cells": [
  {
   "cell_type": "code",
   "execution_count": 1,
   "metadata": {},
   "outputs": [
    {
     "name": "stdout",
     "output_type": "stream",
     "text": [
      "\n",
      "==== ops.biotools.qpcr Module ====\n",
      "\n",
      "For additional information about how to use this module and its functions\n",
      "please, call:\n",
      "\n",
      "    qpcr.help()\n",
      "    qpcr.Info()\n",
      "    qpcr.Example()\n",
      "\n",
      "    or\n",
      "\n",
      "    qpcr.Analysis.help()\n",
      "    qpcr.Analysis.Info()\n",
      "    qpcr.Analysis.Example()\n",
      "\n",
      "\n",
      "\n",
      "\n"
     ]
    }
   ],
   "source": [
    "import qpcr\n",
    "import qpcr.Analysis as qA"
   ]
  },
  {
   "cell_type": "markdown",
   "metadata": {},
   "source": [
    "## `qpcr.Analysis.delta_deltaCt` using two assays and one normaliser"
   ]
  },
  {
   "cell_type": "code",
   "execution_count": 2,
   "metadata": {},
   "outputs": [
    {
     "name": "stdout",
     "output_type": "stream",
     "text": [
      "Exported DeltaDelta_Ct analysis to:\n",
      "Example Data/HNRNPL_nmd_DeltaDelta_Ct.csv\n",
      "Exported DeltaDelta_Ct analysis to:\n",
      "Example Data/HNRNPL_prot_DeltaDelta_Ct.csv\n"
     ]
    },
    {
     "data": {
      "image/png": "[encoded data removed]",
      "text/plain": "<Figure size 576x216 with 2 Axes>"
     },
     "metadata": {
      "needs_background": "light"
     },
     "output_type": "display_data"
    }
   ],
   "source": [
    "hnrnpl_nmd = \"Example Data/HNRNPL_nmd.csv\"\n",
    "hnrnpl_prot = \"Example Data/HNRNPL_prot.csv\"\n",
    "s28 = \"Example Data/28S.csv\"\n",
    "\n",
    "groups = [\"wt-\", \"wt+\", \"ko-\", \"ko+\"]\n",
    "res = qA.delta_deltaCt([s28, hnrnpl_nmd, hnrnpl_prot], \n",
    "                        replicates=6, normaliser=\"28S\", #A\n",
    "                        anchor=\"first\", group_names=groups)\n",
    "\n",
    "f = qA.preview_results(res, figsize=(8,3))\n",
    "\n",
    "#A  --  the normaliser=\"28S\" can be used because the file s28 will be pre-processed along with the other assays. As no specific assay names are provided,\n",
    "#       the package will use the filenames (without suffix) as key.\n"
   ]
  },
  {
   "cell_type": "markdown",
   "metadata": {},
   "source": [
    "## `qpcr` manual DeltaDelta CT analysis of HNRNPL_nmd using 28S as normaliser"
   ]
  },
  {
   "cell_type": "code",
   "execution_count": 3,
   "metadata": {},
   "outputs": [
    {
     "data": {
      "image/png": "[encoded data removed]",
      "text/plain": "<Figure size 216x216 with 1 Axes>"
     },
     "metadata": {
      "needs_background": "light"
     },
     "output_type": "display_data"
    }
   ],
   "source": [
    "hnrnpl_nmd = \"Example Data/HNRNPL_nmd.csv\"\n",
    "s28 = \"Example Data/28S.csv\"\n",
    "\n",
    "# first we load the files\n",
    "hnrnpl_nmd = qpcr.open_csv_file(hnrnpl_nmd)\n",
    "s28 = qpcr.open_csv_file(s28)\n",
    "\n",
    "# first we group the dataset into groups of 6-replicates each\n",
    "reps = 6\n",
    "hnrnpl_nmd = qpcr.group_samples(hnrnpl_nmd, replicates=reps)\n",
    "s28 = qpcr.group_samples(s28, replicates=reps)\n",
    "\n",
    "# now we rename the groups to suit our conditions\n",
    "groups = [\"wt-\", \"wt+\", \"ko-\", \"ko+\"]\n",
    "hnrnpl_nmd = qpcr.rename_groups(hnrnpl_nmd, groups)\n",
    "s28 = qpcr.rename_groups(s28, groups)\n",
    "\n",
    "# now we are good to go to perform the first Delta-Ct \n",
    "anchor = \"first\"\n",
    "hnrnpl_nmd = qpcr.Delta_Ct(hnrnpl_nmd, anchor=anchor)\n",
    "s28 = qpcr.Delta_Ct(s28, anchor=anchor)\n",
    "\n",
    "# and now we can perform the second Delta-Ct by normalising HNRNPL against 28S\n",
    "result = qpcr.normalise(sample=hnrnpl_nmd, normaliser=s28)\n",
    "\n",
    "# and preview again using qA.preview_results\n",
    "f = qA.preview_results({\"HNRNPL rel 28S\" : result}, figsize=(3,3)) #B\n",
    "\n",
    "#B  -- notice how the result is now encased within a larger dictionary (this is because preview_results is intended \n",
    "#      to display more than one set of results and therefore expects more than one presented in a dictionary)."
   ]
  },
  {
   "cell_type": "markdown",
   "metadata": {},
   "source": [
    "## Using combined normalisers"
   ]
  },
  {
   "cell_type": "code",
   "execution_count": 4,
   "metadata": {},
   "outputs": [
    {
     "data": {
      "image/png": "[encoded data removed]",
      "text/plain": "<Figure size 360x216 with 2 Axes>"
     },
     "metadata": {
      "needs_background": "light"
     },
     "output_type": "display_data"
    }
   ],
   "source": [
    "hnrnpl_nmd = \"Example Data/HNRNPL_nmd.csv\"\n",
    "hnrnpl_prot = \"Example Data/HNRNPL_prot.csv\"\n",
    "s28 = \"Example Data/28S.csv\"\n",
    "actin = \"Example Data/actin.csv\"\n",
    "\n",
    "# first we define the general properties of the experiment\n",
    "reps = 6\n",
    "groups = [\"wt-\", \"wt+\", \"ko-\", \"ko+\"]\n",
    "names = [\"Actin\", \"28S\", \"NMD\", \"Prot\"]\n",
    "anchor = \"first\"\n",
    "\n",
    "# now we can start combining the normalisers Actin and 28S\n",
    "combined_normalisers = qpcr.preprocess_normalisers([actin, s28], \n",
    "                                                    replicates=reps, \n",
    "                                                    group_names=groups, \n",
    "                                                    run_names = names[0:2],\n",
    "                                                    anchor=anchor)\n",
    "combined_normalisers = qpcr.combine_normalisers(combined_normalisers)\n",
    "\n",
    "# now that the normalisers are combined, we can perform DeltaDelta CT analysis as we wish -- here we do it using the qA.delta_deltaCt function\n",
    "result = qA.delta_deltaCt([hnrnpl_nmd, hnrnpl_prot], \n",
    "                        replicates=reps, normaliser=combined_normalisers, \n",
    "                        anchor=anchor, group_names=groups, run_names = names[2:], \n",
    "                        export=False)\n",
    "\n",
    "f = qA.preview_results(result, figsize = (5,3))\n"
   ]
  },
  {
   "cell_type": "markdown",
   "metadata": {},
   "source": [
    "## Automatically making a grouped chart using `qA.make_grouped_plots`"
   ]
  },
  {
   "cell_type": "code",
   "execution_count": 9,
   "metadata": {},
   "outputs": [
    {
     "data": {
      "image/png": "[encoded data removed]",
      "text/plain": "<Figure size 360x216 with 1 Axes>"
     },
     "execution_count": 9,
     "metadata": {},
     "output_type": "execute_result"
    }
   ],
   "source": [
    "hnrnpl_nmd = \"Example Data/HNRNPL_nmd.csv\"\n",
    "hnrnpl_prot = \"Example Data/HNRNPL_prot.csv\"\n",
    "s28 = \"Example Data/28S.csv\"\n",
    "\n",
    "# first we define the general properties of the experiment\n",
    "reps = 6\n",
    "groups = [\"wt-\", \"wt+\", \"ko-\", \"ko+\"]\n",
    "names = [\"Actin\", \"28S\", \"HNRNPL_NMD\", \"HNRNPL_Prot\"]\n",
    "anchor = \"first\"\n",
    "\n",
    "result = qA.delta_deltaCt([hnrnpl_nmd, hnrnpl_prot], \n",
    "                        replicates=reps, normaliser=combined_normalisers, \n",
    "                        anchor=anchor, group_names=groups, run_names = names[2:], \n",
    "                        export=False)\n",
    "\n",
    "f = qA.make_grouped_plots(result, subplots=False, figsize = (5,3))\n",
    "f[0]"
   ]
  }
 ],
 "metadata": {
  "kernelspec": {
   "display_name": "Python 3.8.5 64-bit ('base': conda)",
   "name": "python385jvsc74a57bd0440408ec814a89720e512942c6d5ecbbf6c1af18278c59f5daf82b8b64a40a6d"
  },
  "language_info": {
   "codemirror_mode": {
    "name": "ipython",
    "version": 3
   },
   "file_extension": ".py",
   "mimetype": "text/x-python",
   "name": "python",
   "nbconvert_exporter": "python",
   "pygments_lexer": "ipython3",
   "version": "3.8.5"
  },
  "orig_nbformat": 2
 },
 "nbformat": 4,
 "nbformat_minor": 2
}