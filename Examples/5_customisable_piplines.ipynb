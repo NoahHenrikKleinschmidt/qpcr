{
 "cells": [
  {
   "cell_type": "markdown",
   "metadata": {},
   "source": [
    "# Integrating customisation to pre-defined pipelines\n",
    "\n",
    "This notebook gives an example how to add a custom `qpcr.Analyser` to a pipeline so you can profit from the pipeline's automation. There are two pipelines that support customisation of their core parameters: these are the `Blueprint` and `ddCt` pipelines. In this tutorial we will use the `Blueprint` pipeline, in the next tutorial you will encounter the `ddCt` pipeline.\n",
    "\n",
    "\n",
    "#### Experimental background\n",
    "\n",
    "The corresponding experimental setup was as follows: \n",
    "Levels of Nonsense-mediated mRNA decay (NMD) sensitive (nmd) and insensitive (prot) transcript isoforms of HNRNPL and SRSF11 were measured by qPCR. As normalisers both 28S rRNA and Actin transcript levels were measured. The replicates are biological triplicates and technical douplicates. All measurements from the same qPCR sample were merged into hexaplicates (6 replicates). This was done in two separate HeLa cell lines (one with a specific gene knockout (KO), and one without (WT)), which were both treated to a plasmid-mediated rescue (+) or not (-), leading to four experimental conditions:\n",
    "\n",
    "\n",
    "| cell line \\\\ condition | rescue | no rescue |\n",
    "| ---------------------- | ------ | --------- |\n",
    "| knockout               | KO+    | KO-       |\n",
    "| wildtype               | WT+    | WT-       |\n",
    "\n",
    "\n",
    "\n",
    "#### First Analysis\n",
    "In the last tutorial we have specified a custom `anchor` to our `qpcr.Analyser`. However, in the last tutorial we assembled our analysis workflow manually. We do have a nice set of pre-defined pipelines, however, in the `qpcr.Pipes`, so, wouldn't it be nice if we could profit from their automation while still retaining our custom specs? Well, sure it would! That's why we have the `Blueprint` pipeline, which sets up default settings for `DataReader`, `Analyser`, and `Normaliser` but also allows you to overwrite these with your own ones. In truth, the `BasicPlus` pipeline does nothing else but calling the `Blueprint` pipeline with default settings. "
   ]
  },
  {
   "cell_type": "code",
   "execution_count": 1,
   "metadata": {},
   "outputs": [],
   "source": [
    "# import the Blueprint pipeline\n",
    "import qpcr\n",
    "from qpcr.Pipes import Blueprint\n",
    "from qpcr.Plotters import PreviewResults"
   ]
  },
  {
   "cell_type": "markdown",
   "metadata": {},
   "source": [
    "Step 1 - Getting the data\n",
    "---\n",
    "\n",
    "First  we get the datafiles (or rather their filepaths). Here, we do this manually. Of course, any more automated process that yields a list of filepaths is also suitable."
   ]
  },
  {
   "cell_type": "code",
   "execution_count": 2,
   "metadata": {},
   "outputs": [],
   "source": [
    "# get our datafiles\n",
    "normaliser_files = [\n",
    "                        \"./Example Data/28S.csv\",\n",
    "                        \"./Example Data/actin.csv\"\n",
    "                ]\n",
    "\n",
    "sample_files = [\n",
    "                    \"./Example Data/HNRNPL_nmd.csv\",\n",
    "                    \"./Example Data/HNRNPL_prot.csv\",\n",
    "                    \"./Example Data/SRSF11_nmd.csv\",\n",
    "                    \"./Example Data/SRSF11_prot.csv\",\n",
    "            ]\n",
    "\n",
    "# define our experimental parameters\n",
    "reps = 6\n",
    "group_names = [\"WT-\", \"WT+\", \"KO-\", \"KO+\"] "
   ]
  },
  {
   "cell_type": "markdown",
   "metadata": {},
   "source": [
    "Step 2 - Setting up the Pipeline\n",
    "---"
   ]
  },
  {
   "cell_type": "markdown",
   "metadata": {},
   "source": [
    "### 2.1 Setting up the Pipeline\n",
    "We have already seen how to set up the `BasicPlus` pipeline in the second tutorial in `2_pipeline_tutorial.ipynb`. Setting up the `Blueprint` pipeline works just the same."
   ]
  },
  {
   "cell_type": "code",
   "execution_count": 3,
   "metadata": {},
   "outputs": [],
   "source": [
    "# setup the pipeline\n",
    "pipeline = Blueprint()\n",
    "\n",
    "pipeline.replicates(reps)\n",
    "pipeline.names(group_names)\n",
    "\n",
    "pipeline.add_assays(sample_files)\n",
    "pipeline.add_normalisers(normaliser_files)"
   ]
  },
  {
   "cell_type": "markdown",
   "metadata": {},
   "source": [
    "### 2.2 Setting up the custom `qpcr.Analyser`\n",
    "Now comes the interesting part. By default the `anchor = \"first\"`, but let's say we do not want to rely on that, but instead want to use a `\"mean\"` anchor, just as we did in the last tutorial. We can simply set up a custom `Analyser`, specify the `anchor(\"mean\")` and then link that `Analyser` to our pipeline. "
   ]
  },
  {
   "cell_type": "code",
   "execution_count": 4,
   "metadata": {},
   "outputs": [
    {
     "data": {
      "text/plain": [
       "('mean', 0)"
      ]
     },
     "execution_count": 4,
     "metadata": {},
     "output_type": "execute_result"
    }
   ],
   "source": [
    "# setup the analyser and specify anchor\n",
    "analyser = qpcr.Analyser()\n",
    "analyser.anchor(\"mean\")"
   ]
  },
  {
   "cell_type": "markdown",
   "metadata": {},
   "source": [
    "Now we can add our Analyser to the pipeline using:"
   ]
  },
  {
   "cell_type": "code",
   "execution_count": 5,
   "metadata": {},
   "outputs": [
    {
     "data": {
      "text/plain": [
       "Analyser(anchor='mean', ref=0)"
      ]
     },
     "execution_count": 5,
     "metadata": {},
     "output_type": "execute_result"
    }
   ],
   "source": [
    "pipeline.Analyser(analyser)"
   ]
  },
  {
   "cell_type": "markdown",
   "metadata": {},
   "source": [
    "### 2.3 Adding a Preview\n",
    "Because we like plots so much, we also add a `PreviewResults`..."
   ]
  },
  {
   "cell_type": "code",
   "execution_count": 6,
   "metadata": {},
   "outputs": [],
   "source": [
    "# setup preview\n",
    "preview = PreviewResults()\n",
    "pipeline.add_plotters(preview)"
   ]
  },
  {
   "cell_type": "markdown",
   "metadata": {},
   "source": [
    "Step 3 - Running everything\n",
    "---\n",
    "\n",
    "Now we are already all set up and ready to run."
   ]
  },
  {
   "cell_type": "code",
   "execution_count": 7,
   "metadata": {},
   "outputs": [
    {
     "data": {
      "image/png": "[encoded data removed]",
      "text/plain": [
       "<Figure size 432x288 with 4 Axes>"
      ]
     },
     "metadata": {
      "needs_background": "light"
     },
     "output_type": "display_data"
    }
   ],
   "source": [
    "# and now run\n",
    "pipeline.run()"
   ]
  },
  {
   "cell_type": "markdown",
   "metadata": {},
   "source": [
    "### 3.1 Finishing up\n",
    "At this point we are already done with this tutorial. Setting up a custom `Analyser` is no different from setting up a custom `Normaliser` or `Reader`, so you now know how to customise an automated pipeline."
   ]
  }
 ],
 "metadata": {
  "kernelspec": {
   "display_name": "Python 3.8.12 ('base')",
   "language": "python",
   "name": "python3"
  },
  "language_info": {
   "codemirror_mode": {
    "name": "ipython",
    "version": 3
   },
   "file_extension": ".py",
   "mimetype": "text/x-python",
   "name": "python",
   "nbconvert_exporter": "python",
   "pygments_lexer": "ipython3",
   "version": "3.8.12"
  },
  "orig_nbformat": 4,
  "vscode": {
   "interpreter": {
    "hash": "2734b62963039aeeb60b771e82b61c77981815502f674c850ca7bca72bab0171"
   }
  }
 },
 "nbformat": 4,
 "nbformat_minor": 2
}
